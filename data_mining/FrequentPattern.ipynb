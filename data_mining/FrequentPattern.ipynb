{
 "cells": [
  {
   "cell_type": "code",
   "execution_count": 1,
   "metadata": {},
   "outputs": [
    {
     "name": "stdout",
     "output_type": "stream",
     "text": [
      "Frequent patterns were generated successfully using frequentPatternGrowth algorithm\n",
      "Total number of Frequent Patterns: 189\n",
      "Total Memory in RSS 104804352\n",
      "Total ExecutionTime in seconds: 0.18392682075500488\n"
     ]
    }
   ],
   "source": [
    "from PAMI.frequentPattern.basic import FPGrowth as alg\n",
    "\n",
    "minSup = 0.01\n",
    "\n",
    "obj = alg.FPGrowth('artists.csv', minSup, sep=\",\")\n",
    "obj.startMine()\n",
    "frequentPatterns = obj.getPatterns()\n",
    "print(\"Total number of Frequent Patterns:\", len(frequentPatterns))\n",
    "obj.savePatterns('outputFileArtists.csv')\n",
    "print(\"Total Memory in RSS\", obj.getMemoryRSS())\n",
    "print(\"Total ExecutionTime in seconds:\", obj.getRuntime())"
   ]
  }
 ],
 "metadata": {
  "interpreter": {
   "hash": "916dbcbb3f70747c44a77c7bcd40155683ae19c65e1c03b4aa3499c5328201f1"
  },
  "kernelspec": {
   "display_name": "Python 3.8.10 64-bit",
   "language": "python",
   "name": "python3"
  },
  "language_info": {
   "codemirror_mode": {
    "name": "ipython",
    "version": 3
   },
   "file_extension": ".py",
   "mimetype": "text/x-python",
   "name": "python",
   "nbconvert_exporter": "python",
   "pygments_lexer": "ipython3",
   "version": "3.8.10"
  },
  "orig_nbformat": 4
 },
 "nbformat": 4,
 "nbformat_minor": 2
}
