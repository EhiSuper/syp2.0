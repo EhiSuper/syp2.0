{
 "cells": [
  {
   "cell_type": "markdown",
   "id": "52efa55c",
   "metadata": {},
   "source": [
    "# Introduction\n",
    "\n",
    "In this jupyter notebook we load the data from the dataset that we have created from kaggle_dataset and scraping in the mongoDB and neo4j databases. "
   ]
  },
  {
   "cell_type": "code",
   "execution_count": 5,
   "id": "d580940f",
   "metadata": {},
   "outputs": [],
   "source": [
    "import numpy as np\n",
    "import pandas as pd\n",
    "import random\n",
    "import datetime\n",
    "import pymongo\n",
    "import math\n",
    "import string"
   ]
  },
  {
   "cell_type": "code",
   "execution_count": 2,
   "id": "71ccf4b4",
   "metadata": {},
   "outputs": [],
   "source": [
    "df = pd.read_csv('playlist_info.csv') # Load dataset that contains songs and playlists info "
   ]
  },
  {
   "cell_type": "code",
   "execution_count": 3,
   "id": "58513642",
   "metadata": {},
   "outputs": [
    {
     "data": {
      "text/html": [
       "<div>\n",
       "<style scoped>\n",
       "    .dataframe tbody tr th:only-of-type {\n",
       "        vertical-align: middle;\n",
       "    }\n",
       "\n",
       "    .dataframe tbody tr th {\n",
       "        vertical-align: top;\n",
       "    }\n",
       "\n",
       "    .dataframe thead th {\n",
       "        text-align: right;\n",
       "    }\n",
       "</style>\n",
       "<table border=\"1\" class=\"dataframe\">\n",
       "  <thead>\n",
       "    <tr style=\"text-align: right;\">\n",
       "      <th></th>\n",
       "      <th>user_id</th>\n",
       "      <th>artist</th>\n",
       "      <th>track</th>\n",
       "      <th>playlist</th>\n",
       "      <th>artist_track</th>\n",
       "      <th>album</th>\n",
       "      <th>date</th>\n",
       "      <th>lyrics</th>\n",
       "    </tr>\n",
       "  </thead>\n",
       "  <tbody>\n",
       "    <tr>\n",
       "      <th>0</th>\n",
       "      <td>9cc0cfd4d7d7885102480dd99e7a90d6</td>\n",
       "      <td>Crosby Stills Nash</td>\n",
       "      <td>Helplessly Hoping</td>\n",
       "      <td>HARD ROCK 2010</td>\n",
       "      <td>Crosby-Stills-Nash-Helplessly-Hoping-lyrics</td>\n",
       "      <td>NaN</td>\n",
       "      <td>NaN</td>\n",
       "      <td>NaN</td>\n",
       "    </tr>\n",
       "    <tr>\n",
       "      <th>1</th>\n",
       "      <td>07f0fc3be95dcd878966b1f9572ff670</td>\n",
       "      <td>C418</td>\n",
       "      <td>Chris</td>\n",
       "      <td>C418</td>\n",
       "      <td>C418-Chris-lyrics</td>\n",
       "      <td>Minecraft - Volume Alpha</td>\n",
       "      <td>March 4, 2011</td>\n",
       "      <td>This song is an instrumental</td>\n",
       "    </tr>\n",
       "    <tr>\n",
       "      <th>2</th>\n",
       "      <td>07f0fc3be95dcd878966b1f9572ff670</td>\n",
       "      <td>C418</td>\n",
       "      <td>Équinoxe</td>\n",
       "      <td>C418</td>\n",
       "      <td>C418-Équinoxe-lyrics</td>\n",
       "      <td>NaN</td>\n",
       "      <td>NaN</td>\n",
       "      <td>NaN</td>\n",
       "    </tr>\n",
       "    <tr>\n",
       "      <th>3</th>\n",
       "      <td>07f0fc3be95dcd878966b1f9572ff670</td>\n",
       "      <td>Pretty Lights</td>\n",
       "      <td>I Know the Truth</td>\n",
       "      <td>Chill out</td>\n",
       "      <td>Pretty-Lights-I-Know-the-Truth-lyrics</td>\n",
       "      <td>NaN</td>\n",
       "      <td>NaN</td>\n",
       "      <td>I'm too blind\\nI'm too blind.....to see the li...</td>\n",
       "    </tr>\n",
       "    <tr>\n",
       "      <th>4</th>\n",
       "      <td>07f0fc3be95dcd878966b1f9572ff670</td>\n",
       "      <td>Ludwig van Beethoven</td>\n",
       "      <td>Sonata No 23 In F Minor Op 57 Appassionata Ass...</td>\n",
       "      <td>Classique</td>\n",
       "      <td>Ludwig-van-Beethoven-Sonata-No-23-In-F-Minor-O...</td>\n",
       "      <td>NaN</td>\n",
       "      <td>NaN</td>\n",
       "      <td>NaN</td>\n",
       "    </tr>\n",
       "  </tbody>\n",
       "</table>\n",
       "</div>"
      ],
      "text/plain": [
       "                            user_id                artist  \\\n",
       "0  9cc0cfd4d7d7885102480dd99e7a90d6    Crosby Stills Nash   \n",
       "1  07f0fc3be95dcd878966b1f9572ff670                  C418   \n",
       "2  07f0fc3be95dcd878966b1f9572ff670                  C418   \n",
       "3  07f0fc3be95dcd878966b1f9572ff670         Pretty Lights   \n",
       "4  07f0fc3be95dcd878966b1f9572ff670  Ludwig van Beethoven   \n",
       "\n",
       "                                               track        playlist  \\\n",
       "0                                  Helplessly Hoping  HARD ROCK 2010   \n",
       "1                                              Chris            C418   \n",
       "2                                           Équinoxe            C418   \n",
       "3                                   I Know the Truth       Chill out   \n",
       "4  Sonata No 23 In F Minor Op 57 Appassionata Ass...       Classique   \n",
       "\n",
       "                                        artist_track  \\\n",
       "0        Crosby-Stills-Nash-Helplessly-Hoping-lyrics   \n",
       "1                                  C418-Chris-lyrics   \n",
       "2                               C418-Équinoxe-lyrics   \n",
       "3              Pretty-Lights-I-Know-the-Truth-lyrics   \n",
       "4  Ludwig-van-Beethoven-Sonata-No-23-In-F-Minor-O...   \n",
       "\n",
       "                       album           date  \\\n",
       "0                        NaN            NaN   \n",
       "1  Minecraft - Volume Alpha   March 4, 2011   \n",
       "2                        NaN            NaN   \n",
       "3                        NaN            NaN   \n",
       "4                        NaN            NaN   \n",
       "\n",
       "                                              lyrics  \n",
       "0                                                NaN  \n",
       "1                       This song is an instrumental  \n",
       "2                                                NaN  \n",
       "3  I'm too blind\\nI'm too blind.....to see the li...  \n",
       "4                                                NaN  "
      ]
     },
     "execution_count": 3,
     "metadata": {},
     "output_type": "execute_result"
    }
   ],
   "source": [
    "df.head()"
   ]
  },
  {
   "cell_type": "code",
   "execution_count": 4,
   "id": "f24221f8",
   "metadata": {},
   "outputs": [],
   "source": [
    "df_comments = pd.read_csv('comments_info.csv') # Load dataset that contains users and comments info "
   ]
  },
  {
   "cell_type": "code",
   "execution_count": 5,
   "id": "9f74a85b",
   "metadata": {},
   "outputs": [
    {
     "data": {
      "text/html": [
       "<div>\n",
       "<style scoped>\n",
       "    .dataframe tbody tr th:only-of-type {\n",
       "        vertical-align: middle;\n",
       "    }\n",
       "\n",
       "    .dataframe tbody tr th {\n",
       "        vertical-align: top;\n",
       "    }\n",
       "\n",
       "    .dataframe thead th {\n",
       "        text-align: right;\n",
       "    }\n",
       "</style>\n",
       "<table border=\"1\" class=\"dataframe\">\n",
       "  <thead>\n",
       "    <tr style=\"text-align: right;\">\n",
       "      <th></th>\n",
       "      <th>author</th>\n",
       "      <th>date</th>\n",
       "      <th>comment</th>\n",
       "      <th>artist_track</th>\n",
       "    </tr>\n",
       "  </thead>\n",
       "  <tbody>\n",
       "    <tr>\n",
       "      <th>0</th>\n",
       "      <td>DeeCee</td>\n",
       "      <td>1403638235</td>\n",
       "      <td>We should embrace the contractions here! The “...</td>\n",
       "      <td>Papa-Roach-To-Be-Loved-lyrics</td>\n",
       "    </tr>\n",
       "    <tr>\n",
       "      <th>1</th>\n",
       "      <td>CySorcerorD</td>\n",
       "      <td>1494570401</td>\n",
       "      <td>replace the A with an I to correct the “A love...</td>\n",
       "      <td>Papa-Roach-To-Be-Loved-lyrics</td>\n",
       "    </tr>\n",
       "    <tr>\n",
       "      <th>2</th>\n",
       "      <td>guesg</td>\n",
       "      <td>1620154841</td>\n",
       "      <td>I love that this song was the theme song for W...</td>\n",
       "      <td>Papa-Roach-To-Be-Loved-lyrics</td>\n",
       "    </tr>\n",
       "    <tr>\n",
       "      <th>3</th>\n",
       "      <td>SpaceGhostBenoit</td>\n",
       "      <td>1626561019</td>\n",
       "      <td>stayed up every school night as a kid just to ...</td>\n",
       "      <td>Papa-Roach-To-Be-Loved-lyrics</td>\n",
       "    </tr>\n",
       "    <tr>\n",
       "      <th>4</th>\n",
       "      <td>Meandmylife</td>\n",
       "      <td>1408078858</td>\n",
       "      <td>you should add ‘hold your drinks’ before the c...</td>\n",
       "      <td>The-Wanted-We-Own-The-Night-lyrics</td>\n",
       "    </tr>\n",
       "  </tbody>\n",
       "</table>\n",
       "</div>"
      ],
      "text/plain": [
       "             author        date  \\\n",
       "0            DeeCee  1403638235   \n",
       "1       CySorcerorD  1494570401   \n",
       "2             guesg  1620154841   \n",
       "3  SpaceGhostBenoit  1626561019   \n",
       "4       Meandmylife  1408078858   \n",
       "\n",
       "                                             comment  \\\n",
       "0  We should embrace the contractions here! The “...   \n",
       "1  replace the A with an I to correct the “A love...   \n",
       "2  I love that this song was the theme song for W...   \n",
       "3  stayed up every school night as a kid just to ...   \n",
       "4  you should add ‘hold your drinks’ before the c...   \n",
       "\n",
       "                         artist_track  \n",
       "0       Papa-Roach-To-Be-Loved-lyrics  \n",
       "1       Papa-Roach-To-Be-Loved-lyrics  \n",
       "2       Papa-Roach-To-Be-Loved-lyrics  \n",
       "3       Papa-Roach-To-Be-Loved-lyrics  \n",
       "4  The-Wanted-We-Own-The-Night-lyrics  "
      ]
     },
     "execution_count": 5,
     "metadata": {},
     "output_type": "execute_result"
    }
   ],
   "source": [
    "df_comments.head()"
   ]
  },
  {
   "cell_type": "markdown",
   "id": "fa2ca005",
   "metadata": {},
   "source": [
    "***\n",
    "\n",
    "# Username mapping \n",
    "\n",
    "Map users_id with comment's authors to have a valid username in the databases. "
   ]
  },
  {
   "cell_type": "code",
   "execution_count": 6,
   "id": "21b64ef6",
   "metadata": {},
   "outputs": [],
   "source": [
    "df_unique_users = df['user_id'].unique() # Get unique username values\n",
    "df_unique_authors = (df_comments['author'].unique())[:df_unique_users.shape[0]] # Get unique author values\n",
    "zip_iterator = zip(df_unique_users, df_unique_authors) \n",
    "key_value_dict = dict(zip_iterator) # Create a dict {username: author}\n",
    "df[\"user_id\"] = df[\"user_id\"].map(key_value_dict) # Replace user_id with author value"
   ]
  },
  {
   "cell_type": "code",
   "execution_count": 7,
   "id": "22ebdb45",
   "metadata": {},
   "outputs": [],
   "source": [
    "%%capture\n",
    "df = df.rename(columns={\"user_id\": \"username\"}) # Rename the \"user_id\" column in \"username\""
   ]
  },
  {
   "cell_type": "markdown",
   "id": "7d088cac",
   "metadata": {},
   "source": [
    "# Fix dates and album data \n",
    "\n",
    "Transform songs dates into songs release and fix album names removing strange caracthers scraped from web scraping."
   ]
  },
  {
   "cell_type": "code",
   "execution_count": 8,
   "id": "a1aff8ca",
   "metadata": {},
   "outputs": [],
   "source": [
    "# Transform songs dates into songs release\n",
    "def get_year(x): \n",
    "    \n",
    "    if(str(x) == 'nan'): return x\n",
    "    \n",
    "    date_string = x.split(\" \")\n",
    "    if (len(date_string)==1): \n",
    "        return date_string[0]\n",
    "    if (len(date_string)==2):\n",
    "        return date_string[1]\n",
    "    if (len(date_string)==3):\n",
    "        return date_string[2]\n",
    "    "
   ]
  },
  {
   "cell_type": "code",
   "execution_count": 9,
   "id": "0810aa3a",
   "metadata": {},
   "outputs": [],
   "source": [
    "df['date'] = df['date'].apply(lambda x: get_year(x))"
   ]
  },
  {
   "cell_type": "code",
   "execution_count": 10,
   "id": "9cb94625",
   "metadata": {},
   "outputs": [],
   "source": [
    "# Fix album names removing strange caracthers scraped from web scraping.\n",
    "def fix_album_names(x):\n",
    "    if (type(x)==str): \n",
    "        x.replace('\\xa0','') \n",
    "    return x"
   ]
  },
  {
   "cell_type": "code",
   "execution_count": 11,
   "id": "8f410471",
   "metadata": {},
   "outputs": [],
   "source": [
    "df['album'] = df['album'].apply(lambda x: fix_album_names(x))"
   ]
  },
  {
   "cell_type": "code",
   "execution_count": 12,
   "id": "e1cc75ec",
   "metadata": {},
   "outputs": [
    {
     "data": {
      "text/html": [
       "<div>\n",
       "<style scoped>\n",
       "    .dataframe tbody tr th:only-of-type {\n",
       "        vertical-align: middle;\n",
       "    }\n",
       "\n",
       "    .dataframe tbody tr th {\n",
       "        vertical-align: top;\n",
       "    }\n",
       "\n",
       "    .dataframe thead th {\n",
       "        text-align: right;\n",
       "    }\n",
       "</style>\n",
       "<table border=\"1\" class=\"dataframe\">\n",
       "  <thead>\n",
       "    <tr style=\"text-align: right;\">\n",
       "      <th></th>\n",
       "      <th>username</th>\n",
       "      <th>artist</th>\n",
       "      <th>track</th>\n",
       "      <th>playlist</th>\n",
       "      <th>artist_track</th>\n",
       "      <th>album</th>\n",
       "      <th>date</th>\n",
       "      <th>lyrics</th>\n",
       "    </tr>\n",
       "  </thead>\n",
       "  <tbody>\n",
       "    <tr>\n",
       "      <th>0</th>\n",
       "      <td>DeeCee</td>\n",
       "      <td>Crosby Stills Nash</td>\n",
       "      <td>Helplessly Hoping</td>\n",
       "      <td>HARD ROCK 2010</td>\n",
       "      <td>Crosby-Stills-Nash-Helplessly-Hoping-lyrics</td>\n",
       "      <td>NaN</td>\n",
       "      <td>NaN</td>\n",
       "      <td>NaN</td>\n",
       "    </tr>\n",
       "    <tr>\n",
       "      <th>1</th>\n",
       "      <td>CySorcerorD</td>\n",
       "      <td>C418</td>\n",
       "      <td>Chris</td>\n",
       "      <td>C418</td>\n",
       "      <td>C418-Chris-lyrics</td>\n",
       "      <td>Minecraft - Volume Alpha</td>\n",
       "      <td>2011</td>\n",
       "      <td>This song is an instrumental</td>\n",
       "    </tr>\n",
       "    <tr>\n",
       "      <th>2</th>\n",
       "      <td>CySorcerorD</td>\n",
       "      <td>C418</td>\n",
       "      <td>Équinoxe</td>\n",
       "      <td>C418</td>\n",
       "      <td>C418-Équinoxe-lyrics</td>\n",
       "      <td>NaN</td>\n",
       "      <td>NaN</td>\n",
       "      <td>NaN</td>\n",
       "    </tr>\n",
       "    <tr>\n",
       "      <th>3</th>\n",
       "      <td>CySorcerorD</td>\n",
       "      <td>Pretty Lights</td>\n",
       "      <td>I Know the Truth</td>\n",
       "      <td>Chill out</td>\n",
       "      <td>Pretty-Lights-I-Know-the-Truth-lyrics</td>\n",
       "      <td>NaN</td>\n",
       "      <td>NaN</td>\n",
       "      <td>I'm too blind\\nI'm too blind.....to see the li...</td>\n",
       "    </tr>\n",
       "    <tr>\n",
       "      <th>4</th>\n",
       "      <td>CySorcerorD</td>\n",
       "      <td>Ludwig van Beethoven</td>\n",
       "      <td>Sonata No 23 In F Minor Op 57 Appassionata Ass...</td>\n",
       "      <td>Classique</td>\n",
       "      <td>Ludwig-van-Beethoven-Sonata-No-23-In-F-Minor-O...</td>\n",
       "      <td>NaN</td>\n",
       "      <td>NaN</td>\n",
       "      <td>NaN</td>\n",
       "    </tr>\n",
       "  </tbody>\n",
       "</table>\n",
       "</div>"
      ],
      "text/plain": [
       "      username                artist  \\\n",
       "0       DeeCee    Crosby Stills Nash   \n",
       "1  CySorcerorD                  C418   \n",
       "2  CySorcerorD                  C418   \n",
       "3  CySorcerorD         Pretty Lights   \n",
       "4  CySorcerorD  Ludwig van Beethoven   \n",
       "\n",
       "                                               track        playlist  \\\n",
       "0                                  Helplessly Hoping  HARD ROCK 2010   \n",
       "1                                              Chris            C418   \n",
       "2                                           Équinoxe            C418   \n",
       "3                                   I Know the Truth       Chill out   \n",
       "4  Sonata No 23 In F Minor Op 57 Appassionata Ass...       Classique   \n",
       "\n",
       "                                        artist_track  \\\n",
       "0        Crosby-Stills-Nash-Helplessly-Hoping-lyrics   \n",
       "1                                  C418-Chris-lyrics   \n",
       "2                               C418-Équinoxe-lyrics   \n",
       "3              Pretty-Lights-I-Know-the-Truth-lyrics   \n",
       "4  Ludwig-van-Beethoven-Sonata-No-23-In-F-Minor-O...   \n",
       "\n",
       "                       album  date  \\\n",
       "0                        NaN   NaN   \n",
       "1  Minecraft - Volume Alpha   2011   \n",
       "2                        NaN   NaN   \n",
       "3                        NaN   NaN   \n",
       "4                        NaN   NaN   \n",
       "\n",
       "                                              lyrics  \n",
       "0                                                NaN  \n",
       "1                       This song is an instrumental  \n",
       "2                                                NaN  \n",
       "3  I'm too blind\\nI'm too blind.....to see the li...  \n",
       "4                                                NaN  "
      ]
     },
     "execution_count": 12,
     "metadata": {},
     "output_type": "execute_result"
    }
   ],
   "source": [
    "df.head()"
   ]
  },
  {
   "cell_type": "markdown",
   "id": "d1896151",
   "metadata": {},
   "source": [
    "***\n",
    "\n",
    "<h1> Setup MongoDB connection and insert data </h1>"
   ]
  },
  {
   "cell_type": "code",
   "execution_count": 13,
   "id": "fe129ea2",
   "metadata": {},
   "outputs": [],
   "source": [
    "# Connection to mongoDB, SYP database \n",
    "\n",
    "myclient = pymongo.MongoClient(\"mongodb://localhost:27017/\")\n",
    "mydb = myclient['SYP']"
   ]
  },
  {
   "cell_type": "markdown",
   "id": "59a4de52",
   "metadata": {},
   "source": [
    "<h3> Prepare playlist's data and add them to MongoDB </h3>"
   ]
  },
  {
   "cell_type": "code",
   "execution_count": 14,
   "id": "b2b242b0",
   "metadata": {},
   "outputs": [],
   "source": [
    "df_playlist = pd.DataFrame(df)"
   ]
  },
  {
   "cell_type": "code",
   "execution_count": 15,
   "id": "25e924c4",
   "metadata": {},
   "outputs": [],
   "source": [
    "df_playlist = df_playlist.drop_duplicates(subset=['playlist']) # Take unique playlist name "
   ]
  },
  {
   "cell_type": "code",
   "execution_count": 16,
   "id": "6ca969f0",
   "metadata": {},
   "outputs": [],
   "source": [
    "# Generate a random date_of_creation for each playlist\n",
    "\n",
    "start_date = datetime.datetime(2010, 1, 1)\n",
    "end_date = datetime.datetime(2020, 2, 1)\n",
    "time_between_dates = end_date - start_date\n",
    "days_between_dates = time_between_dates.days\n",
    "\n",
    "df_playlist['date_of_creation'] = [ (start_date + datetime.timedelta(random.randrange(days_between_dates))) for k in df_playlist.playlist]"
   ]
  },
  {
   "cell_type": "code",
   "execution_count": 17,
   "id": "58e8c7cd",
   "metadata": {},
   "outputs": [],
   "source": [
    "# Drop useless columns for playlists \n",
    "df_playlist_inserted = df_playlist.drop(['artist','track','artist_track','album','date','lyrics','username'],axis=1)"
   ]
  },
  {
   "cell_type": "code",
   "execution_count": 18,
   "id": "9f4b0f93",
   "metadata": {},
   "outputs": [],
   "source": [
    "df_playlist_inserted = df_playlist.reindex(columns=['playlist','date_of_creation']) # Change columns order"
   ]
  },
  {
   "cell_type": "code",
   "execution_count": 19,
   "id": "43a17d2b",
   "metadata": {},
   "outputs": [
    {
     "data": {
      "text/html": [
       "<div>\n",
       "<style scoped>\n",
       "    .dataframe tbody tr th:only-of-type {\n",
       "        vertical-align: middle;\n",
       "    }\n",
       "\n",
       "    .dataframe tbody tr th {\n",
       "        vertical-align: top;\n",
       "    }\n",
       "\n",
       "    .dataframe thead th {\n",
       "        text-align: right;\n",
       "    }\n",
       "</style>\n",
       "<table border=\"1\" class=\"dataframe\">\n",
       "  <thead>\n",
       "    <tr style=\"text-align: right;\">\n",
       "      <th></th>\n",
       "      <th>playlist</th>\n",
       "      <th>date_of_creation</th>\n",
       "    </tr>\n",
       "  </thead>\n",
       "  <tbody>\n",
       "    <tr>\n",
       "      <th>0</th>\n",
       "      <td>HARD ROCK 2010</td>\n",
       "      <td>2014-05-03</td>\n",
       "    </tr>\n",
       "    <tr>\n",
       "      <th>1</th>\n",
       "      <td>C418</td>\n",
       "      <td>2012-02-19</td>\n",
       "    </tr>\n",
       "    <tr>\n",
       "      <th>3</th>\n",
       "      <td>Chill out</td>\n",
       "      <td>2012-10-09</td>\n",
       "    </tr>\n",
       "    <tr>\n",
       "      <th>4</th>\n",
       "      <td>Classique</td>\n",
       "      <td>2018-12-28</td>\n",
       "    </tr>\n",
       "    <tr>\n",
       "      <th>5</th>\n",
       "      <td>Electro</td>\n",
       "      <td>2011-10-19</td>\n",
       "    </tr>\n",
       "  </tbody>\n",
       "</table>\n",
       "</div>"
      ],
      "text/plain": [
       "         playlist date_of_creation\n",
       "0  HARD ROCK 2010       2014-05-03\n",
       "1            C418       2012-02-19\n",
       "3       Chill out       2012-10-09\n",
       "4       Classique       2018-12-28\n",
       "5         Electro       2011-10-19"
      ]
     },
     "execution_count": 19,
     "metadata": {},
     "output_type": "execute_result"
    }
   ],
   "source": [
    "df_playlist_inserted.head()"
   ]
  },
  {
   "cell_type": "markdown",
   "id": "bf8fc649",
   "metadata": {},
   "source": [
    "<h5> INSERT INTO PLAYLIST COLLECTION </h5>"
   ]
  },
  {
   "cell_type": "code",
   "execution_count": 20,
   "id": "9dde4282",
   "metadata": {},
   "outputs": [],
   "source": [
    "playlist_coll = mydb['playlists'] # Select the playlists collection"
   ]
  },
  {
   "cell_type": "code",
   "execution_count": 21,
   "id": "11082fd7",
   "metadata": {},
   "outputs": [],
   "source": [
    "playlist_dict = df_playlist_inserted.to_dict(\"records\") # Transform the dataframe in a dict "
   ]
  },
  {
   "cell_type": "code",
   "execution_count": 22,
   "id": "bde4bdb4",
   "metadata": {},
   "outputs": [],
   "source": [
    "# INSERT INTO PLAYLIST COLLECTION\n",
    "playlists_id = playlist_coll.insert_many(playlist_dict) # returns the MongoDB ids for playlist entities"
   ]
  },
  {
   "cell_type": "markdown",
   "id": "6389d955",
   "metadata": {},
   "source": [
    "<h3> Prepare song's data and add them to MongoDB </h3>"
   ]
  },
  {
   "cell_type": "code",
   "execution_count": 24,
   "id": "d4d62ce5",
   "metadata": {},
   "outputs": [],
   "source": [
    "df_songs = pd.DataFrame(df)"
   ]
  },
  {
   "cell_type": "code",
   "execution_count": 25,
   "id": "5bdb7098",
   "metadata": {},
   "outputs": [],
   "source": [
    "df_songs = df_songs.drop_duplicates(subset=['artist_track']) # Take unique songs combination artist_trackname "
   ]
  },
  {
   "cell_type": "code",
   "execution_count": 26,
   "id": "397d09be",
   "metadata": {},
   "outputs": [],
   "source": [
    "df_songs_inserted = df_songs.drop(['username','artist_track','playlist'],axis=1) # Drop useless columns"
   ]
  },
  {
   "cell_type": "code",
   "execution_count": 27,
   "id": "b81b8956",
   "metadata": {},
   "outputs": [],
   "source": [
    "# Change columns order\n",
    "df_songs_inserted = df_songs_inserted.reindex(columns=['track','artist','album','date','lyrics']) "
   ]
  },
  {
   "cell_type": "code",
   "execution_count": 28,
   "id": "6b546da5",
   "metadata": {},
   "outputs": [
    {
     "data": {
      "text/html": [
       "<div>\n",
       "<style scoped>\n",
       "    .dataframe tbody tr th:only-of-type {\n",
       "        vertical-align: middle;\n",
       "    }\n",
       "\n",
       "    .dataframe tbody tr th {\n",
       "        vertical-align: top;\n",
       "    }\n",
       "\n",
       "    .dataframe thead th {\n",
       "        text-align: right;\n",
       "    }\n",
       "</style>\n",
       "<table border=\"1\" class=\"dataframe\">\n",
       "  <thead>\n",
       "    <tr style=\"text-align: right;\">\n",
       "      <th></th>\n",
       "      <th>track</th>\n",
       "      <th>artist</th>\n",
       "      <th>album</th>\n",
       "      <th>date</th>\n",
       "      <th>lyrics</th>\n",
       "    </tr>\n",
       "  </thead>\n",
       "  <tbody>\n",
       "    <tr>\n",
       "      <th>0</th>\n",
       "      <td>Helplessly Hoping</td>\n",
       "      <td>Crosby Stills Nash</td>\n",
       "      <td>NaN</td>\n",
       "      <td>NaN</td>\n",
       "      <td>NaN</td>\n",
       "    </tr>\n",
       "    <tr>\n",
       "      <th>1</th>\n",
       "      <td>Chris</td>\n",
       "      <td>C418</td>\n",
       "      <td>Minecraft - Volume Alpha</td>\n",
       "      <td>2011</td>\n",
       "      <td>This song is an instrumental</td>\n",
       "    </tr>\n",
       "    <tr>\n",
       "      <th>2</th>\n",
       "      <td>Équinoxe</td>\n",
       "      <td>C418</td>\n",
       "      <td>NaN</td>\n",
       "      <td>NaN</td>\n",
       "      <td>NaN</td>\n",
       "    </tr>\n",
       "    <tr>\n",
       "      <th>3</th>\n",
       "      <td>I Know the Truth</td>\n",
       "      <td>Pretty Lights</td>\n",
       "      <td>NaN</td>\n",
       "      <td>NaN</td>\n",
       "      <td>I'm too blind\\nI'm too blind.....to see the li...</td>\n",
       "    </tr>\n",
       "    <tr>\n",
       "      <th>4</th>\n",
       "      <td>Sonata No 23 In F Minor Op 57 Appassionata Ass...</td>\n",
       "      <td>Ludwig van Beethoven</td>\n",
       "      <td>NaN</td>\n",
       "      <td>NaN</td>\n",
       "      <td>NaN</td>\n",
       "    </tr>\n",
       "  </tbody>\n",
       "</table>\n",
       "</div>"
      ],
      "text/plain": [
       "                                               track                artist  \\\n",
       "0                                  Helplessly Hoping    Crosby Stills Nash   \n",
       "1                                              Chris                  C418   \n",
       "2                                           Équinoxe                  C418   \n",
       "3                                   I Know the Truth         Pretty Lights   \n",
       "4  Sonata No 23 In F Minor Op 57 Appassionata Ass...  Ludwig van Beethoven   \n",
       "\n",
       "                       album  date  \\\n",
       "0                        NaN   NaN   \n",
       "1  Minecraft - Volume Alpha   2011   \n",
       "2                        NaN   NaN   \n",
       "3                        NaN   NaN   \n",
       "4                        NaN   NaN   \n",
       "\n",
       "                                              lyrics  \n",
       "0                                                NaN  \n",
       "1                       This song is an instrumental  \n",
       "2                                                NaN  \n",
       "3  I'm too blind\\nI'm too blind.....to see the li...  \n",
       "4                                                NaN  "
      ]
     },
     "execution_count": 28,
     "metadata": {},
     "output_type": "execute_result"
    }
   ],
   "source": [
    "df_songs_inserted.head()"
   ]
  },
  {
   "cell_type": "markdown",
   "id": "87dbeae4",
   "metadata": {},
   "source": [
    "<h5> INSERT INTO SONGS COLLECTION </h5>"
   ]
  },
  {
   "cell_type": "code",
   "execution_count": 29,
   "id": "de531e5a",
   "metadata": {},
   "outputs": [],
   "source": [
    "songs_coll = mydb['songs'] # Select the songs collection"
   ]
  },
  {
   "cell_type": "code",
   "execution_count": 30,
   "id": "09dc0832",
   "metadata": {},
   "outputs": [],
   "source": [
    "# Transform the dataframe in a dict removing the null values \n",
    "song_dict = [{k:v for k,v in m.items() if pd.notnull(v)} for m in df_songs_inserted.to_dict(orient='records')]"
   ]
  },
  {
   "cell_type": "code",
   "execution_count": 31,
   "id": "528b15c3",
   "metadata": {},
   "outputs": [],
   "source": [
    "# INSERT INTO SONGS COLLECTION\n",
    "songs_id = songs_coll.insert_many(song_dict) # returns the MongoDB ids for songs entities"
   ]
  },
  {
   "cell_type": "markdown",
   "id": "147f1eda",
   "metadata": {},
   "source": [
    "<h3> Prepare user's data and add them to MongoDB </h3>"
   ]
  },
  {
   "cell_type": "code",
   "execution_count": 32,
   "id": "5ea44a88",
   "metadata": {},
   "outputs": [],
   "source": [
    "df_users = pd.DataFrame(df)"
   ]
  },
  {
   "cell_type": "code",
   "execution_count": 33,
   "id": "793e04a8",
   "metadata": {},
   "outputs": [],
   "source": [
    "df_users = df_users.drop_duplicates(subset=['username']) # Take unique usernames "
   ]
  },
  {
   "cell_type": "code",
   "execution_count": 34,
   "id": "c9dbd06a",
   "metadata": {},
   "outputs": [],
   "source": [
    "# Generate a random account date_of_creation for each users\n",
    "start_date = datetime.datetime(2010, 1, 1)\n",
    "end_date = datetime.datetime(2020, 2, 1)\n",
    "time_between_dates = end_date - start_date\n",
    "days_between_dates = time_between_dates.days\n",
    "\n",
    "df_users['date_of_creation'] = [ (start_date + datetime.timedelta(random.randrange(days_between_dates))) for k in df_users.username]"
   ]
  },
  {
   "cell_type": "code",
   "execution_count": 35,
   "id": "5f3c5ae9",
   "metadata": {},
   "outputs": [],
   "source": [
    "# Generate a random date_of_birth for each users\n",
    "start_date = datetime.datetime(1950, 1, 1)\n",
    "end_date = datetime.datetime(2010, 2, 1)\n",
    "time_between_dates = end_date - start_date\n",
    "days_between_dates = time_between_dates.days\n",
    "\n",
    "df_users['date_of_birth'] = [ (start_date + datetime.timedelta(random.randrange(days_between_dates))) for k in df_users.username]"
   ]
  },
  {
   "cell_type": "code",
   "execution_count": 36,
   "id": "de09558a",
   "metadata": {},
   "outputs": [],
   "source": [
    "# Drop useless columns\n",
    "df_users_inserted = df_users.drop(['artist','track','playlist','artist_track','album','date','lyrics'],axis=1)"
   ]
  },
  {
   "cell_type": "code",
   "execution_count": 37,
   "id": "cb55a4ef",
   "metadata": {},
   "outputs": [],
   "source": [
    "# Change columns order\n",
    "df_users_inserted = df_users.reindex(columns=['username','date_of_creation','date_of_birth'])"
   ]
  },
  {
   "cell_type": "code",
   "execution_count": 38,
   "id": "4ca5318b",
   "metadata": {},
   "outputs": [
    {
     "data": {
      "text/html": [
       "<div>\n",
       "<style scoped>\n",
       "    .dataframe tbody tr th:only-of-type {\n",
       "        vertical-align: middle;\n",
       "    }\n",
       "\n",
       "    .dataframe tbody tr th {\n",
       "        vertical-align: top;\n",
       "    }\n",
       "\n",
       "    .dataframe thead th {\n",
       "        text-align: right;\n",
       "    }\n",
       "</style>\n",
       "<table border=\"1\" class=\"dataframe\">\n",
       "  <thead>\n",
       "    <tr style=\"text-align: right;\">\n",
       "      <th></th>\n",
       "      <th>username</th>\n",
       "      <th>date_of_creation</th>\n",
       "      <th>date_of_birth</th>\n",
       "    </tr>\n",
       "  </thead>\n",
       "  <tbody>\n",
       "    <tr>\n",
       "      <th>0</th>\n",
       "      <td>DeeCee</td>\n",
       "      <td>2013-01-28</td>\n",
       "      <td>1952-08-29</td>\n",
       "    </tr>\n",
       "    <tr>\n",
       "      <th>1</th>\n",
       "      <td>CySorcerorD</td>\n",
       "      <td>2011-01-13</td>\n",
       "      <td>1977-05-16</td>\n",
       "    </tr>\n",
       "    <tr>\n",
       "      <th>6</th>\n",
       "      <td>guesg</td>\n",
       "      <td>2013-10-05</td>\n",
       "      <td>1958-01-01</td>\n",
       "    </tr>\n",
       "    <tr>\n",
       "      <th>8</th>\n",
       "      <td>SpaceGhostBenoit</td>\n",
       "      <td>2016-09-06</td>\n",
       "      <td>1951-05-05</td>\n",
       "    </tr>\n",
       "    <tr>\n",
       "      <th>9</th>\n",
       "      <td>Meandmylife</td>\n",
       "      <td>2013-05-11</td>\n",
       "      <td>1962-06-24</td>\n",
       "    </tr>\n",
       "  </tbody>\n",
       "</table>\n",
       "</div>"
      ],
      "text/plain": [
       "           username date_of_creation date_of_birth\n",
       "0            DeeCee       2013-01-28    1952-08-29\n",
       "1       CySorcerorD       2011-01-13    1977-05-16\n",
       "6             guesg       2013-10-05    1958-01-01\n",
       "8  SpaceGhostBenoit       2016-09-06    1951-05-05\n",
       "9       Meandmylife       2013-05-11    1962-06-24"
      ]
     },
     "execution_count": 38,
     "metadata": {},
     "output_type": "execute_result"
    }
   ],
   "source": [
    "df_users_inserted.head()"
   ]
  },
  {
   "cell_type": "markdown",
   "id": "e5ff7734",
   "metadata": {},
   "source": [
    "### INSERT INTO USERS COLLECTION"
   ]
  },
  {
   "cell_type": "code",
   "execution_count": 39,
   "id": "10df7996",
   "metadata": {},
   "outputs": [],
   "source": [
    "users_coll = mydb['users'] # Select the users collection"
   ]
  },
  {
   "cell_type": "code",
   "execution_count": 40,
   "id": "4dda5ca0",
   "metadata": {},
   "outputs": [],
   "source": [
    "users_dict = df_users_inserted.to_dict(\"records\")  # Transform the dataframe in a dict"
   ]
  },
  {
   "cell_type": "code",
   "execution_count": 41,
   "id": "f2f9461b",
   "metadata": {},
   "outputs": [],
   "source": [
    "# INSERT INTO USERS COLLECTION\n",
    "users_id = users_coll.insert_many(users_dict) # returns the MongoDB ids for users entities"
   ]
  },
  {
   "cell_type": "markdown",
   "id": "ed3348a1",
   "metadata": {},
   "source": [
    "***"
   ]
  },
  {
   "cell_type": "markdown",
   "id": "6a26ac81",
   "metadata": {},
   "source": [
    "# Associate MongoDB ids with instances"
   ]
  },
  {
   "cell_type": "markdown",
   "id": "08bb1d4f",
   "metadata": {},
   "source": [
    "<h3> song_id - artist_track </h3>"
   ]
  },
  {
   "cell_type": "code",
   "execution_count": 43,
   "id": "6c40058f",
   "metadata": {},
   "outputs": [],
   "source": [
    "df_unique_songs = list(df_songs['artist_track']) # Get unique artist_track values\n",
    "df_unique_songs_id = songs_id.inserted_ids # Get unique songs_id values\n",
    "zip_iterator = zip(df_unique_songs, df_unique_songs_id) \n",
    "key_value_dict = dict(zip_iterator) # Create a dict {artist_track: song_id}\n",
    "df[\"song_id\"] = df[\"artist_track\"].map(key_value_dict) # Match artist_track with song_id"
   ]
  },
  {
   "cell_type": "code",
   "execution_count": 44,
   "id": "7209bda1",
   "metadata": {
    "scrolled": true
   },
   "outputs": [
    {
     "data": {
      "text/html": [
       "<div>\n",
       "<style scoped>\n",
       "    .dataframe tbody tr th:only-of-type {\n",
       "        vertical-align: middle;\n",
       "    }\n",
       "\n",
       "    .dataframe tbody tr th {\n",
       "        vertical-align: top;\n",
       "    }\n",
       "\n",
       "    .dataframe thead th {\n",
       "        text-align: right;\n",
       "    }\n",
       "</style>\n",
       "<table border=\"1\" class=\"dataframe\">\n",
       "  <thead>\n",
       "    <tr style=\"text-align: right;\">\n",
       "      <th></th>\n",
       "      <th>username</th>\n",
       "      <th>artist</th>\n",
       "      <th>track</th>\n",
       "      <th>playlist</th>\n",
       "      <th>artist_track</th>\n",
       "      <th>album</th>\n",
       "      <th>date</th>\n",
       "      <th>lyrics</th>\n",
       "      <th>song_id</th>\n",
       "    </tr>\n",
       "  </thead>\n",
       "  <tbody>\n",
       "    <tr>\n",
       "      <th>0</th>\n",
       "      <td>DeeCee</td>\n",
       "      <td>Crosby Stills Nash</td>\n",
       "      <td>Helplessly Hoping</td>\n",
       "      <td>HARD ROCK 2010</td>\n",
       "      <td>Crosby-Stills-Nash-Helplessly-Hoping-lyrics</td>\n",
       "      <td>NaN</td>\n",
       "      <td>NaN</td>\n",
       "      <td>NaN</td>\n",
       "      <td>61cc6cb83bd8fb88c65fc8aa</td>\n",
       "    </tr>\n",
       "    <tr>\n",
       "      <th>1</th>\n",
       "      <td>CySorcerorD</td>\n",
       "      <td>C418</td>\n",
       "      <td>Chris</td>\n",
       "      <td>C418</td>\n",
       "      <td>C418-Chris-lyrics</td>\n",
       "      <td>Minecraft - Volume Alpha</td>\n",
       "      <td>2011</td>\n",
       "      <td>This song is an instrumental</td>\n",
       "      <td>61cc6cb83bd8fb88c65fc8ab</td>\n",
       "    </tr>\n",
       "    <tr>\n",
       "      <th>2</th>\n",
       "      <td>CySorcerorD</td>\n",
       "      <td>C418</td>\n",
       "      <td>Équinoxe</td>\n",
       "      <td>C418</td>\n",
       "      <td>C418-Équinoxe-lyrics</td>\n",
       "      <td>NaN</td>\n",
       "      <td>NaN</td>\n",
       "      <td>NaN</td>\n",
       "      <td>61cc6cb83bd8fb88c65fc8ac</td>\n",
       "    </tr>\n",
       "    <tr>\n",
       "      <th>3</th>\n",
       "      <td>CySorcerorD</td>\n",
       "      <td>Pretty Lights</td>\n",
       "      <td>I Know the Truth</td>\n",
       "      <td>Chill out</td>\n",
       "      <td>Pretty-Lights-I-Know-the-Truth-lyrics</td>\n",
       "      <td>NaN</td>\n",
       "      <td>NaN</td>\n",
       "      <td>I'm too blind\\nI'm too blind.....to see the li...</td>\n",
       "      <td>61cc6cb83bd8fb88c65fc8ad</td>\n",
       "    </tr>\n",
       "    <tr>\n",
       "      <th>4</th>\n",
       "      <td>CySorcerorD</td>\n",
       "      <td>Ludwig van Beethoven</td>\n",
       "      <td>Sonata No 23 In F Minor Op 57 Appassionata Ass...</td>\n",
       "      <td>Classique</td>\n",
       "      <td>Ludwig-van-Beethoven-Sonata-No-23-In-F-Minor-O...</td>\n",
       "      <td>NaN</td>\n",
       "      <td>NaN</td>\n",
       "      <td>NaN</td>\n",
       "      <td>61cc6cb83bd8fb88c65fc8ae</td>\n",
       "    </tr>\n",
       "  </tbody>\n",
       "</table>\n",
       "</div>"
      ],
      "text/plain": [
       "      username                artist  \\\n",
       "0       DeeCee    Crosby Stills Nash   \n",
       "1  CySorcerorD                  C418   \n",
       "2  CySorcerorD                  C418   \n",
       "3  CySorcerorD         Pretty Lights   \n",
       "4  CySorcerorD  Ludwig van Beethoven   \n",
       "\n",
       "                                               track        playlist  \\\n",
       "0                                  Helplessly Hoping  HARD ROCK 2010   \n",
       "1                                              Chris            C418   \n",
       "2                                           Équinoxe            C418   \n",
       "3                                   I Know the Truth       Chill out   \n",
       "4  Sonata No 23 In F Minor Op 57 Appassionata Ass...       Classique   \n",
       "\n",
       "                                        artist_track  \\\n",
       "0        Crosby-Stills-Nash-Helplessly-Hoping-lyrics   \n",
       "1                                  C418-Chris-lyrics   \n",
       "2                               C418-Équinoxe-lyrics   \n",
       "3              Pretty-Lights-I-Know-the-Truth-lyrics   \n",
       "4  Ludwig-van-Beethoven-Sonata-No-23-In-F-Minor-O...   \n",
       "\n",
       "                       album  date  \\\n",
       "0                        NaN   NaN   \n",
       "1  Minecraft - Volume Alpha   2011   \n",
       "2                        NaN   NaN   \n",
       "3                        NaN   NaN   \n",
       "4                        NaN   NaN   \n",
       "\n",
       "                                              lyrics                   song_id  \n",
       "0                                                NaN  61cc6cb83bd8fb88c65fc8aa  \n",
       "1                       This song is an instrumental  61cc6cb83bd8fb88c65fc8ab  \n",
       "2                                                NaN  61cc6cb83bd8fb88c65fc8ac  \n",
       "3  I'm too blind\\nI'm too blind.....to see the li...  61cc6cb83bd8fb88c65fc8ad  \n",
       "4                                                NaN  61cc6cb83bd8fb88c65fc8ae  "
      ]
     },
     "execution_count": 44,
     "metadata": {},
     "output_type": "execute_result"
    }
   ],
   "source": [
    "df.head()"
   ]
  },
  {
   "cell_type": "code",
   "execution_count": 45,
   "id": "008b0b3c",
   "metadata": {},
   "outputs": [
    {
     "name": "stdout",
     "output_type": "stream",
     "text": [
      "False\n"
     ]
    }
   ],
   "source": [
    "check_for_nan_songs = df['song_id'].isnull().values.any()\n",
    "print (check_for_nan_songs)"
   ]
  },
  {
   "cell_type": "markdown",
   "id": "ea34ed15",
   "metadata": {},
   "source": [
    "<h3> playlist_id - playlist_name </h3>"
   ]
  },
  {
   "cell_type": "code",
   "execution_count": 46,
   "id": "1aeb1952",
   "metadata": {},
   "outputs": [],
   "source": [
    "df_unique_playlist = list(df_playlist['playlist']) # Get unique playlist values\n",
    "df_unique_playlist_id = playlists_id.inserted_ids # Get unique playlist_id values\n",
    "zip_iterator = zip(df_unique_playlist, df_unique_playlist_id) \n",
    "key_value_dict = dict(zip_iterator) # Create a dict {playlist: playlist_id}\n",
    "df[\"playlist_id\"] = df[\"playlist\"].map(key_value_dict) # Match playlist with playlist_id"
   ]
  },
  {
   "cell_type": "code",
   "execution_count": 47,
   "id": "291afb7b",
   "metadata": {
    "scrolled": true
   },
   "outputs": [
    {
     "data": {
      "text/html": [
       "<div>\n",
       "<style scoped>\n",
       "    .dataframe tbody tr th:only-of-type {\n",
       "        vertical-align: middle;\n",
       "    }\n",
       "\n",
       "    .dataframe tbody tr th {\n",
       "        vertical-align: top;\n",
       "    }\n",
       "\n",
       "    .dataframe thead th {\n",
       "        text-align: right;\n",
       "    }\n",
       "</style>\n",
       "<table border=\"1\" class=\"dataframe\">\n",
       "  <thead>\n",
       "    <tr style=\"text-align: right;\">\n",
       "      <th></th>\n",
       "      <th>username</th>\n",
       "      <th>artist</th>\n",
       "      <th>track</th>\n",
       "      <th>playlist</th>\n",
       "      <th>artist_track</th>\n",
       "      <th>album</th>\n",
       "      <th>date</th>\n",
       "      <th>lyrics</th>\n",
       "      <th>song_id</th>\n",
       "      <th>playlist_id</th>\n",
       "    </tr>\n",
       "  </thead>\n",
       "  <tbody>\n",
       "    <tr>\n",
       "      <th>0</th>\n",
       "      <td>DeeCee</td>\n",
       "      <td>Crosby Stills Nash</td>\n",
       "      <td>Helplessly Hoping</td>\n",
       "      <td>HARD ROCK 2010</td>\n",
       "      <td>Crosby-Stills-Nash-Helplessly-Hoping-lyrics</td>\n",
       "      <td>NaN</td>\n",
       "      <td>NaN</td>\n",
       "      <td>NaN</td>\n",
       "      <td>61cc6cb83bd8fb88c65fc8aa</td>\n",
       "      <td>61cc6cb53bd8fb88c65ec87c</td>\n",
       "    </tr>\n",
       "    <tr>\n",
       "      <th>1</th>\n",
       "      <td>CySorcerorD</td>\n",
       "      <td>C418</td>\n",
       "      <td>Chris</td>\n",
       "      <td>C418</td>\n",
       "      <td>C418-Chris-lyrics</td>\n",
       "      <td>Minecraft - Volume Alpha</td>\n",
       "      <td>2011</td>\n",
       "      <td>This song is an instrumental</td>\n",
       "      <td>61cc6cb83bd8fb88c65fc8ab</td>\n",
       "      <td>61cc6cb53bd8fb88c65ec87d</td>\n",
       "    </tr>\n",
       "    <tr>\n",
       "      <th>2</th>\n",
       "      <td>CySorcerorD</td>\n",
       "      <td>C418</td>\n",
       "      <td>Équinoxe</td>\n",
       "      <td>C418</td>\n",
       "      <td>C418-Équinoxe-lyrics</td>\n",
       "      <td>NaN</td>\n",
       "      <td>NaN</td>\n",
       "      <td>NaN</td>\n",
       "      <td>61cc6cb83bd8fb88c65fc8ac</td>\n",
       "      <td>61cc6cb53bd8fb88c65ec87d</td>\n",
       "    </tr>\n",
       "    <tr>\n",
       "      <th>3</th>\n",
       "      <td>CySorcerorD</td>\n",
       "      <td>Pretty Lights</td>\n",
       "      <td>I Know the Truth</td>\n",
       "      <td>Chill out</td>\n",
       "      <td>Pretty-Lights-I-Know-the-Truth-lyrics</td>\n",
       "      <td>NaN</td>\n",
       "      <td>NaN</td>\n",
       "      <td>I'm too blind\\nI'm too blind.....to see the li...</td>\n",
       "      <td>61cc6cb83bd8fb88c65fc8ad</td>\n",
       "      <td>61cc6cb53bd8fb88c65ec87e</td>\n",
       "    </tr>\n",
       "    <tr>\n",
       "      <th>4</th>\n",
       "      <td>CySorcerorD</td>\n",
       "      <td>Ludwig van Beethoven</td>\n",
       "      <td>Sonata No 23 In F Minor Op 57 Appassionata Ass...</td>\n",
       "      <td>Classique</td>\n",
       "      <td>Ludwig-van-Beethoven-Sonata-No-23-In-F-Minor-O...</td>\n",
       "      <td>NaN</td>\n",
       "      <td>NaN</td>\n",
       "      <td>NaN</td>\n",
       "      <td>61cc6cb83bd8fb88c65fc8ae</td>\n",
       "      <td>61cc6cb53bd8fb88c65ec87f</td>\n",
       "    </tr>\n",
       "  </tbody>\n",
       "</table>\n",
       "</div>"
      ],
      "text/plain": [
       "      username                artist  \\\n",
       "0       DeeCee    Crosby Stills Nash   \n",
       "1  CySorcerorD                  C418   \n",
       "2  CySorcerorD                  C418   \n",
       "3  CySorcerorD         Pretty Lights   \n",
       "4  CySorcerorD  Ludwig van Beethoven   \n",
       "\n",
       "                                               track        playlist  \\\n",
       "0                                  Helplessly Hoping  HARD ROCK 2010   \n",
       "1                                              Chris            C418   \n",
       "2                                           Équinoxe            C418   \n",
       "3                                   I Know the Truth       Chill out   \n",
       "4  Sonata No 23 In F Minor Op 57 Appassionata Ass...       Classique   \n",
       "\n",
       "                                        artist_track  \\\n",
       "0        Crosby-Stills-Nash-Helplessly-Hoping-lyrics   \n",
       "1                                  C418-Chris-lyrics   \n",
       "2                               C418-Équinoxe-lyrics   \n",
       "3              Pretty-Lights-I-Know-the-Truth-lyrics   \n",
       "4  Ludwig-van-Beethoven-Sonata-No-23-In-F-Minor-O...   \n",
       "\n",
       "                       album  date  \\\n",
       "0                        NaN   NaN   \n",
       "1  Minecraft - Volume Alpha   2011   \n",
       "2                        NaN   NaN   \n",
       "3                        NaN   NaN   \n",
       "4                        NaN   NaN   \n",
       "\n",
       "                                              lyrics  \\\n",
       "0                                                NaN   \n",
       "1                       This song is an instrumental   \n",
       "2                                                NaN   \n",
       "3  I'm too blind\\nI'm too blind.....to see the li...   \n",
       "4                                                NaN   \n",
       "\n",
       "                    song_id               playlist_id  \n",
       "0  61cc6cb83bd8fb88c65fc8aa  61cc6cb53bd8fb88c65ec87c  \n",
       "1  61cc6cb83bd8fb88c65fc8ab  61cc6cb53bd8fb88c65ec87d  \n",
       "2  61cc6cb83bd8fb88c65fc8ac  61cc6cb53bd8fb88c65ec87d  \n",
       "3  61cc6cb83bd8fb88c65fc8ad  61cc6cb53bd8fb88c65ec87e  \n",
       "4  61cc6cb83bd8fb88c65fc8ae  61cc6cb53bd8fb88c65ec87f  "
      ]
     },
     "execution_count": 47,
     "metadata": {},
     "output_type": "execute_result"
    }
   ],
   "source": [
    "df.head()"
   ]
  },
  {
   "cell_type": "code",
   "execution_count": 48,
   "id": "1bf269a4",
   "metadata": {},
   "outputs": [
    {
     "name": "stdout",
     "output_type": "stream",
     "text": [
      "False\n"
     ]
    }
   ],
   "source": [
    "check_for_nan_playlist = df['playlist_id'].isnull().values.any()\n",
    "print (check_for_nan_playlist)"
   ]
  },
  {
   "cell_type": "markdown",
   "id": "de9fcdea",
   "metadata": {},
   "source": [
    "<h3> user_id - username </h3>"
   ]
  },
  {
   "cell_type": "code",
   "execution_count": 49,
   "id": "c402b4be",
   "metadata": {},
   "outputs": [],
   "source": [
    "df_unique_users = list(df_users['username']) # Get unique username values\n",
    "df_unique_users_id = users_id.inserted_ids # Get unique users_id values\n",
    "zip_iterator = zip(df_unique_users, df_unique_users_id) \n",
    "key_value_dict = dict(zip_iterator) # Create a dict {username: users_id}\n",
    "df[\"users_id\"] = df[\"username\"].map(key_value_dict) # Match username with users_id"
   ]
  },
  {
   "cell_type": "code",
   "execution_count": 50,
   "id": "c38e44c5",
   "metadata": {},
   "outputs": [
    {
     "data": {
      "text/html": [
       "<div>\n",
       "<style scoped>\n",
       "    .dataframe tbody tr th:only-of-type {\n",
       "        vertical-align: middle;\n",
       "    }\n",
       "\n",
       "    .dataframe tbody tr th {\n",
       "        vertical-align: top;\n",
       "    }\n",
       "\n",
       "    .dataframe thead th {\n",
       "        text-align: right;\n",
       "    }\n",
       "</style>\n",
       "<table border=\"1\" class=\"dataframe\">\n",
       "  <thead>\n",
       "    <tr style=\"text-align: right;\">\n",
       "      <th></th>\n",
       "      <th>username</th>\n",
       "      <th>artist</th>\n",
       "      <th>track</th>\n",
       "      <th>playlist</th>\n",
       "      <th>artist_track</th>\n",
       "      <th>album</th>\n",
       "      <th>date</th>\n",
       "      <th>lyrics</th>\n",
       "      <th>song_id</th>\n",
       "      <th>playlist_id</th>\n",
       "      <th>users_id</th>\n",
       "    </tr>\n",
       "  </thead>\n",
       "  <tbody>\n",
       "    <tr>\n",
       "      <th>0</th>\n",
       "      <td>DeeCee</td>\n",
       "      <td>Crosby Stills Nash</td>\n",
       "      <td>Helplessly Hoping</td>\n",
       "      <td>HARD ROCK 2010</td>\n",
       "      <td>Crosby-Stills-Nash-Helplessly-Hoping-lyrics</td>\n",
       "      <td>NaN</td>\n",
       "      <td>NaN</td>\n",
       "      <td>NaN</td>\n",
       "      <td>61cc6cb83bd8fb88c65fc8aa</td>\n",
       "      <td>61cc6cb53bd8fb88c65ec87c</td>\n",
       "      <td>61cc6cbb3bd8fb88c6628b8b</td>\n",
       "    </tr>\n",
       "    <tr>\n",
       "      <th>1</th>\n",
       "      <td>CySorcerorD</td>\n",
       "      <td>C418</td>\n",
       "      <td>Chris</td>\n",
       "      <td>C418</td>\n",
       "      <td>C418-Chris-lyrics</td>\n",
       "      <td>Minecraft - Volume Alpha</td>\n",
       "      <td>2011</td>\n",
       "      <td>This song is an instrumental</td>\n",
       "      <td>61cc6cb83bd8fb88c65fc8ab</td>\n",
       "      <td>61cc6cb53bd8fb88c65ec87d</td>\n",
       "      <td>61cc6cbb3bd8fb88c6628b8c</td>\n",
       "    </tr>\n",
       "    <tr>\n",
       "      <th>2</th>\n",
       "      <td>CySorcerorD</td>\n",
       "      <td>C418</td>\n",
       "      <td>Équinoxe</td>\n",
       "      <td>C418</td>\n",
       "      <td>C418-Équinoxe-lyrics</td>\n",
       "      <td>NaN</td>\n",
       "      <td>NaN</td>\n",
       "      <td>NaN</td>\n",
       "      <td>61cc6cb83bd8fb88c65fc8ac</td>\n",
       "      <td>61cc6cb53bd8fb88c65ec87d</td>\n",
       "      <td>61cc6cbb3bd8fb88c6628b8c</td>\n",
       "    </tr>\n",
       "    <tr>\n",
       "      <th>3</th>\n",
       "      <td>CySorcerorD</td>\n",
       "      <td>Pretty Lights</td>\n",
       "      <td>I Know the Truth</td>\n",
       "      <td>Chill out</td>\n",
       "      <td>Pretty-Lights-I-Know-the-Truth-lyrics</td>\n",
       "      <td>NaN</td>\n",
       "      <td>NaN</td>\n",
       "      <td>I'm too blind\\nI'm too blind.....to see the li...</td>\n",
       "      <td>61cc6cb83bd8fb88c65fc8ad</td>\n",
       "      <td>61cc6cb53bd8fb88c65ec87e</td>\n",
       "      <td>61cc6cbb3bd8fb88c6628b8c</td>\n",
       "    </tr>\n",
       "    <tr>\n",
       "      <th>4</th>\n",
       "      <td>CySorcerorD</td>\n",
       "      <td>Ludwig van Beethoven</td>\n",
       "      <td>Sonata No 23 In F Minor Op 57 Appassionata Ass...</td>\n",
       "      <td>Classique</td>\n",
       "      <td>Ludwig-van-Beethoven-Sonata-No-23-In-F-Minor-O...</td>\n",
       "      <td>NaN</td>\n",
       "      <td>NaN</td>\n",
       "      <td>NaN</td>\n",
       "      <td>61cc6cb83bd8fb88c65fc8ae</td>\n",
       "      <td>61cc6cb53bd8fb88c65ec87f</td>\n",
       "      <td>61cc6cbb3bd8fb88c6628b8c</td>\n",
       "    </tr>\n",
       "  </tbody>\n",
       "</table>\n",
       "</div>"
      ],
      "text/plain": [
       "      username                artist  \\\n",
       "0       DeeCee    Crosby Stills Nash   \n",
       "1  CySorcerorD                  C418   \n",
       "2  CySorcerorD                  C418   \n",
       "3  CySorcerorD         Pretty Lights   \n",
       "4  CySorcerorD  Ludwig van Beethoven   \n",
       "\n",
       "                                               track        playlist  \\\n",
       "0                                  Helplessly Hoping  HARD ROCK 2010   \n",
       "1                                              Chris            C418   \n",
       "2                                           Équinoxe            C418   \n",
       "3                                   I Know the Truth       Chill out   \n",
       "4  Sonata No 23 In F Minor Op 57 Appassionata Ass...       Classique   \n",
       "\n",
       "                                        artist_track  \\\n",
       "0        Crosby-Stills-Nash-Helplessly-Hoping-lyrics   \n",
       "1                                  C418-Chris-lyrics   \n",
       "2                               C418-Équinoxe-lyrics   \n",
       "3              Pretty-Lights-I-Know-the-Truth-lyrics   \n",
       "4  Ludwig-van-Beethoven-Sonata-No-23-In-F-Minor-O...   \n",
       "\n",
       "                       album  date  \\\n",
       "0                        NaN   NaN   \n",
       "1  Minecraft - Volume Alpha   2011   \n",
       "2                        NaN   NaN   \n",
       "3                        NaN   NaN   \n",
       "4                        NaN   NaN   \n",
       "\n",
       "                                              lyrics  \\\n",
       "0                                                NaN   \n",
       "1                       This song is an instrumental   \n",
       "2                                                NaN   \n",
       "3  I'm too blind\\nI'm too blind.....to see the li...   \n",
       "4                                                NaN   \n",
       "\n",
       "                    song_id               playlist_id  \\\n",
       "0  61cc6cb83bd8fb88c65fc8aa  61cc6cb53bd8fb88c65ec87c   \n",
       "1  61cc6cb83bd8fb88c65fc8ab  61cc6cb53bd8fb88c65ec87d   \n",
       "2  61cc6cb83bd8fb88c65fc8ac  61cc6cb53bd8fb88c65ec87d   \n",
       "3  61cc6cb83bd8fb88c65fc8ad  61cc6cb53bd8fb88c65ec87e   \n",
       "4  61cc6cb83bd8fb88c65fc8ae  61cc6cb53bd8fb88c65ec87f   \n",
       "\n",
       "                   users_id  \n",
       "0  61cc6cbb3bd8fb88c6628b8b  \n",
       "1  61cc6cbb3bd8fb88c6628b8c  \n",
       "2  61cc6cbb3bd8fb88c6628b8c  \n",
       "3  61cc6cbb3bd8fb88c6628b8c  \n",
       "4  61cc6cbb3bd8fb88c6628b8c  "
      ]
     },
     "execution_count": 50,
     "metadata": {},
     "output_type": "execute_result"
    }
   ],
   "source": [
    "df.head()"
   ]
  },
  {
   "cell_type": "code",
   "execution_count": 51,
   "id": "dd436b68",
   "metadata": {},
   "outputs": [
    {
     "name": "stdout",
     "output_type": "stream",
     "text": [
      "False\n"
     ]
    }
   ],
   "source": [
    "check_for_nan_playlist = df['users_id'].isnull().values.any()\n",
    "print (check_for_nan_playlist)"
   ]
  },
  {
   "cell_type": "code",
   "execution_count": 101,
   "id": "063adb21",
   "metadata": {},
   "outputs": [],
   "source": [
    "# df.to_csv('FinalDatasetWithMongoIDS.csv',index = False) # Save all changes in a dataframe"
   ]
  },
  {
   "cell_type": "markdown",
   "id": "12b44531",
   "metadata": {},
   "source": [
    "***"
   ]
  },
  {
   "cell_type": "code",
   "execution_count": 7,
   "id": "75e925c5",
   "metadata": {},
   "outputs": [],
   "source": [
    "df = pd.read_csv('./DatasetsUsed/FinalDatasetWithMongoIDS.csv')"
   ]
  },
  {
   "cell_type": "markdown",
   "id": "fdbc88c7",
   "metadata": {},
   "source": [
    "# Handle embedded documents "
   ]
  },
  {
   "cell_type": "markdown",
   "id": "3fe43cd3",
   "metadata": {},
   "source": [
    "<h3> Add embedded document songs to playlist </h3>"
   ]
  },
  {
   "cell_type": "code",
   "execution_count": 52,
   "id": "26175f81",
   "metadata": {
    "scrolled": true
   },
   "outputs": [
    {
     "data": {
      "text/html": [
       "<div>\n",
       "<style scoped>\n",
       "    .dataframe tbody tr th:only-of-type {\n",
       "        vertical-align: middle;\n",
       "    }\n",
       "\n",
       "    .dataframe tbody tr th {\n",
       "        vertical-align: top;\n",
       "    }\n",
       "\n",
       "    .dataframe thead th {\n",
       "        text-align: right;\n",
       "    }\n",
       "</style>\n",
       "<table border=\"1\" class=\"dataframe\">\n",
       "  <thead>\n",
       "    <tr style=\"text-align: right;\">\n",
       "      <th></th>\n",
       "      <th>playlist_id</th>\n",
       "      <th>songs_in_playlist</th>\n",
       "    </tr>\n",
       "  </thead>\n",
       "  <tbody>\n",
       "    <tr>\n",
       "      <th>0</th>\n",
       "      <td>61cc6cb53bd8fb88c65ec87c</td>\n",
       "      <td>[{'_id': 61cc6cb83bd8fb88c65fc8aa, 'artist': '...</td>\n",
       "    </tr>\n",
       "    <tr>\n",
       "      <th>1</th>\n",
       "      <td>61cc6cb53bd8fb88c65ec87d</td>\n",
       "      <td>[{'_id': 61cc6cb83bd8fb88c65fc8ab, 'artist': '...</td>\n",
       "    </tr>\n",
       "    <tr>\n",
       "      <th>2</th>\n",
       "      <td>61cc6cb53bd8fb88c65ec87e</td>\n",
       "      <td>[{'_id': 61cc6cb83bd8fb88c65fc8ad, 'artist': '...</td>\n",
       "    </tr>\n",
       "    <tr>\n",
       "      <th>3</th>\n",
       "      <td>61cc6cb53bd8fb88c65ec87f</td>\n",
       "      <td>[{'_id': 61cc6cb83bd8fb88c65fc8ae, 'artist': '...</td>\n",
       "    </tr>\n",
       "    <tr>\n",
       "      <th>4</th>\n",
       "      <td>61cc6cb53bd8fb88c65ec880</td>\n",
       "      <td>[{'_id': 61cc6cb83bd8fb88c65fc8af, 'artist': '...</td>\n",
       "    </tr>\n",
       "  </tbody>\n",
       "</table>\n",
       "</div>"
      ],
      "text/plain": [
       "                playlist_id                                  songs_in_playlist\n",
       "0  61cc6cb53bd8fb88c65ec87c  [{'_id': 61cc6cb83bd8fb88c65fc8aa, 'artist': '...\n",
       "1  61cc6cb53bd8fb88c65ec87d  [{'_id': 61cc6cb83bd8fb88c65fc8ab, 'artist': '...\n",
       "2  61cc6cb53bd8fb88c65ec87e  [{'_id': 61cc6cb83bd8fb88c65fc8ad, 'artist': '...\n",
       "3  61cc6cb53bd8fb88c65ec87f  [{'_id': 61cc6cb83bd8fb88c65fc8ae, 'artist': '...\n",
       "4  61cc6cb53bd8fb88c65ec880  [{'_id': 61cc6cb83bd8fb88c65fc8af, 'artist': '..."
      ]
     },
     "execution_count": 52,
     "metadata": {},
     "output_type": "execute_result"
    }
   ],
   "source": [
    "# Get the list of songs contained in each playlist\n",
    "group = df.drop_duplicates(['playlist_id','song_id']).reindex(columns=['song_id','artist','track','album','date','playlist_id']).rename(columns={\"song_id\": \"_id\"}).groupby('playlist_id')\n",
    "series = group.apply(lambda x: [{k:v for k,v in m.items() if pd.notnull(v)} for m in x.to_dict(orient='records')])\n",
    "df_playlist_song = pd.DataFrame({\n",
    "    'playlist_id': series.index,\n",
    "    'songs_in_playlist': series.values\n",
    "})\n",
    "df_playlist_song.head()"
   ]
  },
  {
   "cell_type": "code",
   "execution_count": 53,
   "id": "1d535fc6",
   "metadata": {},
   "outputs": [],
   "source": [
    "#Remove values not needed \n",
    "def remove_song_values(x):\n",
    "    for song in x:\n",
    "        del song['playlist_id']\n",
    "    return x "
   ]
  },
  {
   "cell_type": "code",
   "execution_count": 54,
   "id": "46a63568",
   "metadata": {},
   "outputs": [],
   "source": [
    "df_playlist_song['songs_in_playlist'] = df_playlist_song['songs_in_playlist'].apply(remove_song_values) #Remove values not needed "
   ]
  },
  {
   "cell_type": "code",
   "execution_count": 55,
   "id": "f89790e3",
   "metadata": {},
   "outputs": [
    {
     "data": {
      "text/plain": [
       "[{'_id': ObjectId('61cc6cb83bd8fb88c65fc8aa'),\n",
       "  'artist': 'Crosby Stills Nash',\n",
       "  'track': 'Helplessly Hoping'}]"
      ]
     },
     "execution_count": 55,
     "metadata": {},
     "output_type": "execute_result"
    }
   ],
   "source": [
    "df_playlist_song['songs_in_playlist'][0]"
   ]
  },
  {
   "cell_type": "code",
   "execution_count": 56,
   "id": "d89a774a",
   "metadata": {},
   "outputs": [],
   "source": [
    "# Add the column of embedded documents to the principal df and save it as \"df_playlist_embedded\"\n",
    "df_playlist_embedded = (pd.merge(df.drop_duplicates(subset=['playlist_id']), df_playlist_song, on='playlist_id')) "
   ]
  },
  {
   "cell_type": "markdown",
   "id": "7fb85182",
   "metadata": {},
   "source": [
    "<h6> INSERT EMBEDDED DOCUMENT IN PLAYLIST </h6>"
   ]
  },
  {
   "cell_type": "code",
   "execution_count": 57,
   "id": "d9c28a49",
   "metadata": {},
   "outputs": [],
   "source": [
    "def insert_playlist_embedded(playlist_id,embedded_doc, username, users_id):\n",
    "    playlist_coll.update_one(\n",
    "        {\"_id\" : playlist_id}, \n",
    "        { \"$set\": { 'songs_in_playlist': embedded_doc, 'created_by': {'_id': users_id, 'username': username}} }\n",
    "    )"
   ]
  },
  {
   "cell_type": "code",
   "execution_count": 58,
   "id": "d1640444",
   "metadata": {
    "scrolled": true
   },
   "outputs": [],
   "source": [
    "%%capture\n",
    "df_playlist_embedded.apply(lambda x: insert_playlist_embedded(x.playlist_id, x.songs_in_playlist, x.username, x.users_id), axis=1)"
   ]
  },
  {
   "cell_type": "markdown",
   "id": "3ab5409e",
   "metadata": {},
   "source": [
    "<h3> Add embedded document  playlists to songs </h3>"
   ]
  },
  {
   "cell_type": "code",
   "execution_count": 142,
   "id": "192f34cf",
   "metadata": {},
   "outputs": [
    {
     "data": {
      "text/html": [
       "<div>\n",
       "<style scoped>\n",
       "    .dataframe tbody tr th:only-of-type {\n",
       "        vertical-align: middle;\n",
       "    }\n",
       "\n",
       "    .dataframe tbody tr th {\n",
       "        vertical-align: top;\n",
       "    }\n",
       "\n",
       "    .dataframe thead th {\n",
       "        text-align: right;\n",
       "    }\n",
       "</style>\n",
       "<table border=\"1\" class=\"dataframe\">\n",
       "  <thead>\n",
       "    <tr style=\"text-align: right;\">\n",
       "      <th></th>\n",
       "      <th>song_id</th>\n",
       "      <th>playlists_that_contains_it</th>\n",
       "    </tr>\n",
       "  </thead>\n",
       "  <tbody>\n",
       "    <tr>\n",
       "      <th>0</th>\n",
       "      <td>61cc6cb83bd8fb88c65fc8aa</td>\n",
       "      <td>[{'_id': 61cc6cb53bd8fb88c65ec87c, 'name': 'HA...</td>\n",
       "    </tr>\n",
       "    <tr>\n",
       "      <th>1</th>\n",
       "      <td>61cc6cb83bd8fb88c65fc8ab</td>\n",
       "      <td>[{'_id': 61cc6cb53bd8fb88c65ec87d, 'name': 'C4...</td>\n",
       "    </tr>\n",
       "    <tr>\n",
       "      <th>2</th>\n",
       "      <td>61cc6cb83bd8fb88c65fc8ac</td>\n",
       "      <td>[{'_id': 61cc6cb53bd8fb88c65ec87d, 'name': 'C4...</td>\n",
       "    </tr>\n",
       "    <tr>\n",
       "      <th>3</th>\n",
       "      <td>61cc6cb83bd8fb88c65fc8ad</td>\n",
       "      <td>[{'_id': 61cc6cb53bd8fb88c65ec87e, 'name': 'Ch...</td>\n",
       "    </tr>\n",
       "    <tr>\n",
       "      <th>4</th>\n",
       "      <td>61cc6cb83bd8fb88c65fc8ae</td>\n",
       "      <td>[{'_id': 61cc6cb53bd8fb88c65ec87f, 'name': 'Cl...</td>\n",
       "    </tr>\n",
       "  </tbody>\n",
       "</table>\n",
       "</div>"
      ],
      "text/plain": [
       "                    song_id                         playlists_that_contains_it\n",
       "0  61cc6cb83bd8fb88c65fc8aa  [{'_id': 61cc6cb53bd8fb88c65ec87c, 'name': 'HA...\n",
       "1  61cc6cb83bd8fb88c65fc8ab  [{'_id': 61cc6cb53bd8fb88c65ec87d, 'name': 'C4...\n",
       "2  61cc6cb83bd8fb88c65fc8ac  [{'_id': 61cc6cb53bd8fb88c65ec87d, 'name': 'C4...\n",
       "3  61cc6cb83bd8fb88c65fc8ad  [{'_id': 61cc6cb53bd8fb88c65ec87e, 'name': 'Ch...\n",
       "4  61cc6cb83bd8fb88c65fc8ae  [{'_id': 61cc6cb53bd8fb88c65ec87f, 'name': 'Cl..."
      ]
     },
     "execution_count": 142,
     "metadata": {},
     "output_type": "execute_result"
    }
   ],
   "source": [
    "# Get the list of playlists in which a song is contained, for each song\n",
    "group = df.drop_duplicates(['playlist_id','song_id']).reindex(columns=['playlist_id','playlist','username','users_id','song_id']).rename(columns={\"playlist_id\": \"_id\", \"playlist\":\"name\"}).groupby('song_id')\n",
    "series = group.apply(lambda x: x.to_dict('records'))\n",
    "df_song_playlist = pd.DataFrame({\n",
    "    'song_id': series.index,\n",
    "    'playlists_that_contains_it': series.values\n",
    "})\n",
    "df_song_playlist.head()"
   ]
  },
  {
   "cell_type": "code",
   "execution_count": 143,
   "id": "6184de1b",
   "metadata": {},
   "outputs": [],
   "source": [
    "#Remove values not needed \n",
    "def remove_playlist_values(x):\n",
    "    for playlist in x:\n",
    "        playlist['creator'] = {\"_id\": playlist['users_id'], \"username\": playlist['username']}\n",
    "        del playlist['users_id']\n",
    "        del playlist['username']\n",
    "        del playlist['song_id']\n",
    "    return x "
   ]
  },
  {
   "cell_type": "code",
   "execution_count": 144,
   "id": "9a749a29",
   "metadata": {},
   "outputs": [],
   "source": [
    "#Remove values not needed\n",
    "df_song_playlist['playlists_that_contains_it'] = df_song_playlist['playlists_that_contains_it'].apply(remove_playlist_values)  "
   ]
  },
  {
   "cell_type": "code",
   "execution_count": 145,
   "id": "3132c9b0",
   "metadata": {},
   "outputs": [
    {
     "data": {
      "text/plain": [
       "[{'_id': ObjectId('61cc6cb53bd8fb88c65ec87c'),\n",
       "  'name': 'HARD ROCK 2010',\n",
       "  'creator': {'_id': ObjectId('61cc6cbb3bd8fb88c6628b8b'),\n",
       "   'username': 'DeeCee'}}]"
      ]
     },
     "execution_count": 145,
     "metadata": {},
     "output_type": "execute_result"
    }
   ],
   "source": [
    "df_song_playlist['playlists_that_contains_it'][0]"
   ]
  },
  {
   "cell_type": "code",
   "execution_count": 146,
   "id": "f5e6c4fa",
   "metadata": {},
   "outputs": [],
   "source": [
    "# Add the column of embedded documents to the principal df and save it as \"df_songs_embedded\"\n",
    "df_songs_embedded = (pd.merge(df.drop_duplicates(subset=['song_id']), df_song_playlist, on='song_id'))"
   ]
  },
  {
   "cell_type": "markdown",
   "id": "f211c0e4",
   "metadata": {},
   "source": [
    "<h5> INSERT EMBEDDED DOCUMENT IN SONGS </h5>"
   ]
  },
  {
   "cell_type": "code",
   "execution_count": 147,
   "id": "06d19a1b",
   "metadata": {},
   "outputs": [],
   "source": [
    "def insert_songs_embedded(song_id,embedded_doc):\n",
    "    songs_coll.update_one(\n",
    "        {\"_id\" : song_id}, \n",
    "        { \"$set\": { 'playlists': embedded_doc } }\n",
    "    )"
   ]
  },
  {
   "cell_type": "code",
   "execution_count": 148,
   "id": "3d5af77e",
   "metadata": {},
   "outputs": [],
   "source": [
    "%%capture\n",
    "df_songs_embedded.apply(lambda x: insert_songs_embedded(x.song_id, x.playlists_that_contains_it), axis=1)"
   ]
  },
  {
   "cell_type": "markdown",
   "id": "3d6638f5",
   "metadata": {},
   "source": [
    "<h3> Add embedded document  playlists to users </h3>"
   ]
  },
  {
   "cell_type": "code",
   "execution_count": 135,
   "id": "ef027ba1",
   "metadata": {},
   "outputs": [
    {
     "data": {
      "text/html": [
       "<div>\n",
       "<style scoped>\n",
       "    .dataframe tbody tr th:only-of-type {\n",
       "        vertical-align: middle;\n",
       "    }\n",
       "\n",
       "    .dataframe tbody tr th {\n",
       "        vertical-align: top;\n",
       "    }\n",
       "\n",
       "    .dataframe thead th {\n",
       "        text-align: right;\n",
       "    }\n",
       "</style>\n",
       "<table border=\"1\" class=\"dataframe\">\n",
       "  <thead>\n",
       "    <tr style=\"text-align: right;\">\n",
       "      <th></th>\n",
       "      <th>users_id</th>\n",
       "      <th>playlist_created</th>\n",
       "    </tr>\n",
       "  </thead>\n",
       "  <tbody>\n",
       "    <tr>\n",
       "      <th>0</th>\n",
       "      <td>61cc6cbb3bd8fb88c6628b8b</td>\n",
       "      <td>[{'_id': 61cc6cb53bd8fb88c65ec87c, 'name': 'HA...</td>\n",
       "    </tr>\n",
       "    <tr>\n",
       "      <th>1</th>\n",
       "      <td>61cc6cbb3bd8fb88c6628b8c</td>\n",
       "      <td>[{'_id': 61cc6cb53bd8fb88c65ec87d, 'name': 'C4...</td>\n",
       "    </tr>\n",
       "    <tr>\n",
       "      <th>2</th>\n",
       "      <td>61cc6cbb3bd8fb88c6628b8d</td>\n",
       "      <td>[{'_id': 61cc6cb53bd8fb88c65ec881, 'name': 'So...</td>\n",
       "    </tr>\n",
       "    <tr>\n",
       "      <th>3</th>\n",
       "      <td>61cc6cbb3bd8fb88c6628b8e</td>\n",
       "      <td>[{'_id': 61cc6cb53bd8fb88c65ec882, 'name': '20...</td>\n",
       "    </tr>\n",
       "    <tr>\n",
       "      <th>4</th>\n",
       "      <td>61cc6cbb3bd8fb88c6628b8f</td>\n",
       "      <td>[{'_id': 61cc6cb53bd8fb88c65ec883, 'name': 'La...</td>\n",
       "    </tr>\n",
       "  </tbody>\n",
       "</table>\n",
       "</div>"
      ],
      "text/plain": [
       "                   users_id                                   playlist_created\n",
       "0  61cc6cbb3bd8fb88c6628b8b  [{'_id': 61cc6cb53bd8fb88c65ec87c, 'name': 'HA...\n",
       "1  61cc6cbb3bd8fb88c6628b8c  [{'_id': 61cc6cb53bd8fb88c65ec87d, 'name': 'C4...\n",
       "2  61cc6cbb3bd8fb88c6628b8d  [{'_id': 61cc6cb53bd8fb88c65ec881, 'name': 'So...\n",
       "3  61cc6cbb3bd8fb88c6628b8e  [{'_id': 61cc6cb53bd8fb88c65ec882, 'name': '20...\n",
       "4  61cc6cbb3bd8fb88c6628b8f  [{'_id': 61cc6cb53bd8fb88c65ec883, 'name': 'La..."
      ]
     },
     "execution_count": 135,
     "metadata": {},
     "output_type": "execute_result"
    }
   ],
   "source": [
    "# Get the list of playlists created by each user\n",
    "group = df.drop_duplicates(['users_id','playlist_id']).reindex(columns=['playlist_id','playlist','users_id']).rename(columns={\"playlist_id\": \"_id\", \"playlist\": \"name\"}).groupby('users_id')\n",
    "series = group.apply(lambda x: x.to_dict('records'))\n",
    "df_user_playlist = pd.DataFrame({\n",
    "    'users_id': series.index,\n",
    "    'playlist_created': series.values\n",
    "})\n",
    "df_user_playlist.head()"
   ]
  },
  {
   "cell_type": "code",
   "execution_count": 136,
   "id": "1f84a37b",
   "metadata": {},
   "outputs": [],
   "source": [
    "#Remove values not needed \n",
    "def remove_playlist_user_values(x):\n",
    "    for playlist in x:\n",
    "        del playlist['users_id']\n",
    "    return x "
   ]
  },
  {
   "cell_type": "code",
   "execution_count": 137,
   "id": "1564e1ad",
   "metadata": {},
   "outputs": [],
   "source": [
    "#Remove values not needed \n",
    "df_user_playlist['playlist_created'] = df_user_playlist['playlist_created'].apply(remove_playlist_user_values) "
   ]
  },
  {
   "cell_type": "code",
   "execution_count": 138,
   "id": "af6139af",
   "metadata": {
    "scrolled": true
   },
   "outputs": [
    {
     "data": {
      "text/plain": [
       "[{'_id': ObjectId('61cc6cb53bd8fb88c65ec87c'), 'name': 'HARD ROCK 2010'}]"
      ]
     },
     "execution_count": 138,
     "metadata": {},
     "output_type": "execute_result"
    }
   ],
   "source": [
    "df_user_playlist['playlist_created'][0]"
   ]
  },
  {
   "cell_type": "code",
   "execution_count": 139,
   "id": "9f6faaab",
   "metadata": {},
   "outputs": [],
   "source": [
    "# Add the column of embedded documents to the principal df and save it as \"df_users_embedded\"\n",
    "df_users_embedded = (pd.merge(df.drop_duplicates(subset=['users_id']), df_user_playlist, on='users_id')) # Merge user_id column with dataset"
   ]
  },
  {
   "cell_type": "markdown",
   "id": "b54d02ac",
   "metadata": {},
   "source": [
    "<h6> GENERATE PASSWORD AND ADD ATTRIBUTE \"isAdmin\" AS FALSE FOR EACH USER </h6>"
   ]
  },
  {
   "cell_type": "code",
   "execution_count": 157,
   "id": "90e772e5",
   "metadata": {},
   "outputs": [],
   "source": [
    "def get_random_string(length):\n",
    "    # With combination of lower and upper case\n",
    "    result_str = ''.join(random.choice(string.ascii_letters) for i in range(length))\n",
    "    # print random string\n",
    "    return result_str"
   ]
  },
  {
   "cell_type": "code",
   "execution_count": 158,
   "id": "2d282411",
   "metadata": {},
   "outputs": [],
   "source": [
    "df_users_embedded['password'] = [ get_random_string(16)  for k in df_users_embedded.users_id]"
   ]
  },
  {
   "cell_type": "code",
   "execution_count": 159,
   "id": "e102e38e",
   "metadata": {},
   "outputs": [],
   "source": [
    "df_users_embedded['isAdmin'] = [ False for k in df_users_embedded.users_id]"
   ]
  },
  {
   "cell_type": "markdown",
   "id": "30f203bd",
   "metadata": {},
   "source": [
    "<h5> INSERT EMBEDDED DOCUMENT, PASSWORD AND isAdmin IN USERS </h5>"
   ]
  },
  {
   "cell_type": "code",
   "execution_count": 162,
   "id": "ed1ecd74",
   "metadata": {},
   "outputs": [],
   "source": [
    "def insert_users_embedded(user_id,embedded_doc, password, isAdmin):\n",
    "    users_coll.update_one(\n",
    "        {\"_id\" : user_id}, \n",
    "        { \"$set\": { 'createdPlaylists': embedded_doc, 'password': password, 'isAdmin': isAdmin } }\n",
    "    )"
   ]
  },
  {
   "cell_type": "code",
   "execution_count": 163,
   "id": "cef7fc45",
   "metadata": {},
   "outputs": [],
   "source": [
    "%%capture\n",
    "df_users_embedded.apply(lambda x: insert_users_embedded(x.users_id, x.playlist_created, x.password, x.isAdmin), axis=1)"
   ]
  },
  {
   "cell_type": "markdown",
   "id": "dfc97572",
   "metadata": {},
   "source": [
    "***\n",
    "\n",
    "# Change attribute names of documents in MongoDB"
   ]
  },
  {
   "cell_type": "code",
   "execution_count": 104,
   "id": "cf3c290e",
   "metadata": {},
   "outputs": [
    {
     "data": {
      "text/plain": [
       "<pymongo.results.UpdateResult at 0x7fe7623cbcc0>"
      ]
     },
     "execution_count": 104,
     "metadata": {},
     "output_type": "execute_result"
    }
   ],
   "source": [
    "playlist_coll.update_many( {}, { \"$rename\": { \n",
    "    \"playlist\": \"name\",\n",
    "    \"date_of_creation\": \"creationDate\",\n",
    "    \"created_by\": \"creator\",\n",
    "    \"songs_in_playlist\": \"songs\"\n",
    "} } )"
   ]
  },
  {
   "cell_type": "code",
   "execution_count": 134,
   "id": "f44c8d32",
   "metadata": {},
   "outputs": [
    {
     "data": {
      "text/plain": [
       "<pymongo.results.UpdateResult at 0x7fe787e783c0>"
      ]
     },
     "execution_count": 134,
     "metadata": {},
     "output_type": "execute_result"
    }
   ],
   "source": [
    "songs_coll.update_many( {}, { \"$rename\": { \n",
    "    \"date\": \"year\",\n",
    "    \"lyrics\": \"lyric\",\n",
    "    \"playlists_that_contains_it\": \"playlists\",\n",
    "} } )\n",
    "\n",
    "songs_coll.update_many( {}, { \"$unset\": {\n",
    "    \"playlists.$[].creator\":\"\"\n",
    "} } )"
   ]
  },
  {
   "cell_type": "code",
   "execution_count": 151,
   "id": "7c1e9073",
   "metadata": {},
   "outputs": [
    {
     "data": {
      "text/plain": [
       "<pymongo.results.UpdateResult at 0x7fe701f0d140>"
      ]
     },
     "execution_count": 151,
     "metadata": {},
     "output_type": "execute_result"
    }
   ],
   "source": [
    "users_coll.update_many( {}, { \"$rename\": { \n",
    "    \"date_of_creation\":\"dateOfCreation\",\n",
    "    \"date_of_birth\": \"dateOfBirth\"\n",
    "} } )"
   ]
  },
  {
   "cell_type": "markdown",
   "id": "2f649394",
   "metadata": {},
   "source": [
    "***\n",
    "\n",
    "<h1> Setup Neo4j connection and insert data </h1>"
   ]
  },
  {
   "cell_type": "markdown",
   "id": "5db116a7",
   "metadata": {},
   "source": [
    "<h3> Setup data for Neo4j nodes </h3>"
   ]
  },
  {
   "cell_type": "code",
   "execution_count": 73,
   "id": "286930f0",
   "metadata": {},
   "outputs": [
    {
     "data": {
      "text/html": [
       "<div>\n",
       "<style scoped>\n",
       "    .dataframe tbody tr th:only-of-type {\n",
       "        vertical-align: middle;\n",
       "    }\n",
       "\n",
       "    .dataframe tbody tr th {\n",
       "        vertical-align: top;\n",
       "    }\n",
       "\n",
       "    .dataframe thead th {\n",
       "        text-align: right;\n",
       "    }\n",
       "</style>\n",
       "<table border=\"1\" class=\"dataframe\">\n",
       "  <thead>\n",
       "    <tr style=\"text-align: right;\">\n",
       "      <th></th>\n",
       "      <th>playlist_id</th>\n",
       "      <th>playlist</th>\n",
       "      <th>username</th>\n",
       "    </tr>\n",
       "  </thead>\n",
       "  <tbody>\n",
       "    <tr>\n",
       "      <th>0</th>\n",
       "      <td>61cc6cb53bd8fb88c65ec87c</td>\n",
       "      <td>HARD ROCK 2010</td>\n",
       "      <td>DeeCee</td>\n",
       "    </tr>\n",
       "    <tr>\n",
       "      <th>1</th>\n",
       "      <td>61cc6cb53bd8fb88c65ec87d</td>\n",
       "      <td>C418</td>\n",
       "      <td>CySorcerorD</td>\n",
       "    </tr>\n",
       "    <tr>\n",
       "      <th>3</th>\n",
       "      <td>61cc6cb53bd8fb88c65ec87e</td>\n",
       "      <td>Chill out</td>\n",
       "      <td>CySorcerorD</td>\n",
       "    </tr>\n",
       "    <tr>\n",
       "      <th>4</th>\n",
       "      <td>61cc6cb53bd8fb88c65ec87f</td>\n",
       "      <td>Classique</td>\n",
       "      <td>CySorcerorD</td>\n",
       "    </tr>\n",
       "    <tr>\n",
       "      <th>5</th>\n",
       "      <td>61cc6cb53bd8fb88c65ec880</td>\n",
       "      <td>Electro</td>\n",
       "      <td>CySorcerorD</td>\n",
       "    </tr>\n",
       "  </tbody>\n",
       "</table>\n",
       "</div>"
      ],
      "text/plain": [
       "                playlist_id        playlist     username\n",
       "0  61cc6cb53bd8fb88c65ec87c  HARD ROCK 2010       DeeCee\n",
       "1  61cc6cb53bd8fb88c65ec87d            C418  CySorcerorD\n",
       "3  61cc6cb53bd8fb88c65ec87e       Chill out  CySorcerorD\n",
       "4  61cc6cb53bd8fb88c65ec87f       Classique  CySorcerorD\n",
       "5  61cc6cb53bd8fb88c65ec880         Electro  CySorcerorD"
      ]
     },
     "execution_count": 73,
     "metadata": {},
     "output_type": "execute_result"
    }
   ],
   "source": [
    "# PLAYLIST CSV\n",
    "playlist_csv = df.drop_duplicates(subset=['playlist_id']).drop(['artist','track','artist_track','album','date','lyrics','song_id','users_id'],axis=1).reindex(columns=['playlist_id','playlist','username'])\n",
    "playlist_csv['playlist'] = playlist_csv['playlist'].apply(lambda x: str(x).replace('\"',\"'\"))\n",
    "playlist_csv.head()"
   ]
  },
  {
   "cell_type": "code",
   "execution_count": 74,
   "id": "6390f378",
   "metadata": {},
   "outputs": [
    {
     "data": {
      "text/html": [
       "<div>\n",
       "<style scoped>\n",
       "    .dataframe tbody tr th:only-of-type {\n",
       "        vertical-align: middle;\n",
       "    }\n",
       "\n",
       "    .dataframe tbody tr th {\n",
       "        vertical-align: top;\n",
       "    }\n",
       "\n",
       "    .dataframe thead th {\n",
       "        text-align: right;\n",
       "    }\n",
       "</style>\n",
       "<table border=\"1\" class=\"dataframe\">\n",
       "  <thead>\n",
       "    <tr style=\"text-align: right;\">\n",
       "      <th></th>\n",
       "      <th>track</th>\n",
       "      <th>song_id</th>\n",
       "      <th>artist</th>\n",
       "      <th>album</th>\n",
       "    </tr>\n",
       "  </thead>\n",
       "  <tbody>\n",
       "    <tr>\n",
       "      <th>0</th>\n",
       "      <td>Helplessly Hoping</td>\n",
       "      <td>61cc6cb83bd8fb88c65fc8aa</td>\n",
       "      <td>Crosby Stills Nash</td>\n",
       "      <td>nan</td>\n",
       "    </tr>\n",
       "    <tr>\n",
       "      <th>1</th>\n",
       "      <td>Chris</td>\n",
       "      <td>61cc6cb83bd8fb88c65fc8ab</td>\n",
       "      <td>C418</td>\n",
       "      <td>Minecraft - Volume Alpha</td>\n",
       "    </tr>\n",
       "    <tr>\n",
       "      <th>2</th>\n",
       "      <td>Équinoxe</td>\n",
       "      <td>61cc6cb83bd8fb88c65fc8ac</td>\n",
       "      <td>C418</td>\n",
       "      <td>nan</td>\n",
       "    </tr>\n",
       "    <tr>\n",
       "      <th>3</th>\n",
       "      <td>I Know the Truth</td>\n",
       "      <td>61cc6cb83bd8fb88c65fc8ad</td>\n",
       "      <td>Pretty Lights</td>\n",
       "      <td>nan</td>\n",
       "    </tr>\n",
       "    <tr>\n",
       "      <th>4</th>\n",
       "      <td>Sonata No 23 In F Minor Op 57 Appassionata Ass...</td>\n",
       "      <td>61cc6cb83bd8fb88c65fc8ae</td>\n",
       "      <td>Ludwig van Beethoven</td>\n",
       "      <td>nan</td>\n",
       "    </tr>\n",
       "  </tbody>\n",
       "</table>\n",
       "</div>"
      ],
      "text/plain": [
       "                                               track  \\\n",
       "0                                  Helplessly Hoping   \n",
       "1                                              Chris   \n",
       "2                                           Équinoxe   \n",
       "3                                   I Know the Truth   \n",
       "4  Sonata No 23 In F Minor Op 57 Appassionata Ass...   \n",
       "\n",
       "                    song_id                artist                      album  \n",
       "0  61cc6cb83bd8fb88c65fc8aa    Crosby Stills Nash                        nan  \n",
       "1  61cc6cb83bd8fb88c65fc8ab                  C418  Minecraft - Volume Alpha   \n",
       "2  61cc6cb83bd8fb88c65fc8ac                  C418                        nan  \n",
       "3  61cc6cb83bd8fb88c65fc8ad         Pretty Lights                        nan  \n",
       "4  61cc6cb83bd8fb88c65fc8ae  Ludwig van Beethoven                        nan  "
      ]
     },
     "execution_count": 74,
     "metadata": {},
     "output_type": "execute_result"
    }
   ],
   "source": [
    "# SONG CSV\n",
    "songs_csv = df.drop_duplicates(subset=['song_id']).drop(['username','playlist','artist_track','playlist_id','users_id','date','lyrics'],axis=1).reindex(columns=['track','song_id','artist','album'])\n",
    "songs_csv['track'] = songs_csv['track'].apply(lambda x: str(x).replace('\"',\"'\"))\n",
    "songs_csv['artist'] = songs_csv['artist'].apply(lambda x: str(x).replace('\"',\"'\"))\n",
    "songs_csv['album'] = songs_csv['album'].apply(lambda x: str(x).replace('\"',\"'\"))\n",
    "songs_csv.head()"
   ]
  },
  {
   "cell_type": "code",
   "execution_count": 75,
   "id": "4d8dc1dc",
   "metadata": {},
   "outputs": [
    {
     "data": {
      "text/html": [
       "<div>\n",
       "<style scoped>\n",
       "    .dataframe tbody tr th:only-of-type {\n",
       "        vertical-align: middle;\n",
       "    }\n",
       "\n",
       "    .dataframe tbody tr th {\n",
       "        vertical-align: top;\n",
       "    }\n",
       "\n",
       "    .dataframe thead th {\n",
       "        text-align: right;\n",
       "    }\n",
       "</style>\n",
       "<table border=\"1\" class=\"dataframe\">\n",
       "  <thead>\n",
       "    <tr style=\"text-align: right;\">\n",
       "      <th></th>\n",
       "      <th>users_id</th>\n",
       "      <th>username</th>\n",
       "    </tr>\n",
       "  </thead>\n",
       "  <tbody>\n",
       "    <tr>\n",
       "      <th>0</th>\n",
       "      <td>61cc6cbb3bd8fb88c6628b8b</td>\n",
       "      <td>DeeCee</td>\n",
       "    </tr>\n",
       "    <tr>\n",
       "      <th>1</th>\n",
       "      <td>61cc6cbb3bd8fb88c6628b8c</td>\n",
       "      <td>CySorcerorD</td>\n",
       "    </tr>\n",
       "    <tr>\n",
       "      <th>6</th>\n",
       "      <td>61cc6cbb3bd8fb88c6628b8d</td>\n",
       "      <td>guesg</td>\n",
       "    </tr>\n",
       "    <tr>\n",
       "      <th>8</th>\n",
       "      <td>61cc6cbb3bd8fb88c6628b8e</td>\n",
       "      <td>SpaceGhostBenoit</td>\n",
       "    </tr>\n",
       "    <tr>\n",
       "      <th>9</th>\n",
       "      <td>61cc6cbb3bd8fb88c6628b8f</td>\n",
       "      <td>Meandmylife</td>\n",
       "    </tr>\n",
       "  </tbody>\n",
       "</table>\n",
       "</div>"
      ],
      "text/plain": [
       "                   users_id          username\n",
       "0  61cc6cbb3bd8fb88c6628b8b            DeeCee\n",
       "1  61cc6cbb3bd8fb88c6628b8c       CySorcerorD\n",
       "6  61cc6cbb3bd8fb88c6628b8d             guesg\n",
       "8  61cc6cbb3bd8fb88c6628b8e  SpaceGhostBenoit\n",
       "9  61cc6cbb3bd8fb88c6628b8f       Meandmylife"
      ]
     },
     "execution_count": 75,
     "metadata": {},
     "output_type": "execute_result"
    }
   ],
   "source": [
    "# USERS CSV\n",
    "users_csv = df.drop_duplicates(subset=['users_id']).drop(['artist','track','artist_track','playlist','album','date','lyrics','song_id','playlist_id'],axis=1).reindex(columns=['users_id', 'username'])\n",
    "users_csv['username'] = users_csv['username'].apply(lambda x: str(x).replace('\"',\"'\"))\n",
    "users_csv.head()"
   ]
  },
  {
   "cell_type": "code",
   "execution_count": 96,
   "id": "9482cc3d",
   "metadata": {},
   "outputs": [],
   "source": [
    "# Random number of playlist followed by each user\n",
    "users_csv['n_playlist_followed'] = [ random.randint(0,50)  for k in users_csv.users_id] "
   ]
  },
  {
   "cell_type": "code",
   "execution_count": 98,
   "id": "dd3deb03",
   "metadata": {},
   "outputs": [],
   "source": [
    "# Random number of users followed by each user\n",
    "users_csv['n_user_followed'] = [ random.randint(0,100)  for k in users_csv.users_id]"
   ]
  },
  {
   "cell_type": "markdown",
   "id": "05c21618",
   "metadata": {},
   "source": [
    "<h3> Associate comment_author and artist_track to the comments </h3>"
   ]
  },
  {
   "cell_type": "code",
   "execution_count": 76,
   "id": "42dec3a9",
   "metadata": {},
   "outputs": [],
   "source": [
    "df_unique_songs = list(df_songs['artist_track']) # Get unique songs values\n",
    "df_unique_songs_id = songs_id.inserted_ids # Get unique songs_id values\n",
    "zip_iterator = zip(df_unique_songs, df_unique_songs_id) \n",
    "key_value_dict = dict(zip_iterator) # Create a dict {user_id: author}\n",
    "df_comments[\"song_id\"] = df_comments[\"artist_track\"].map(key_value_dict) # Replace user_id with author value"
   ]
  },
  {
   "cell_type": "code",
   "execution_count": 77,
   "id": "c133adc9",
   "metadata": {},
   "outputs": [],
   "source": [
    "df_unique_users = list(df['username']) # Get unique user_id values\n",
    "df_unique_users_id = list(df['users_id']) # Get unique author values\n",
    "zip_iterator = zip(df_unique_users, df_unique_users_id) \n",
    "key_value_dict = dict(zip_iterator) # Create a dict {user_id: author}\n",
    "df_comments[\"users_id\"] = df_comments[\"author\"].map(key_value_dict) # Replace user_id with author value"
   ]
  },
  {
   "cell_type": "code",
   "execution_count": 82,
   "id": "6cef4ee5",
   "metadata": {},
   "outputs": [],
   "source": [
    "# COMMENTS CSV\n",
    "comments_csv = df_comments.drop(['artist_track'],axis=1)\n",
    "comments_csv['author'] = comments_csv['author'].apply(lambda x: str(x).replace('\"',\"'\"))\n",
    "comments_csv['comment'] = comments_csv['comment'].apply(lambda x: str(x).replace('\"',\"'\"))\n",
    "comments_csv['comment'] = comments_csv['comment'].apply(lambda x: str(x).replace('“',\"'\"))\n",
    "comments_csv['date'] = comments_csv['date'].apply(lambda x: datetime.datetime.fromtimestamp(x))"
   ]
  },
  {
   "cell_type": "code",
   "execution_count": 91,
   "id": "8486492e",
   "metadata": {},
   "outputs": [],
   "source": [
    "comments_csv['vote'] = [ random.randint(1,5)  for k in comments_csv.comment] # Create a random vote foreach comment"
   ]
  },
  {
   "cell_type": "code",
   "execution_count": 83,
   "id": "10cfb770",
   "metadata": {},
   "outputs": [
    {
     "data": {
      "text/html": [
       "<div>\n",
       "<style scoped>\n",
       "    .dataframe tbody tr th:only-of-type {\n",
       "        vertical-align: middle;\n",
       "    }\n",
       "\n",
       "    .dataframe tbody tr th {\n",
       "        vertical-align: top;\n",
       "    }\n",
       "\n",
       "    .dataframe thead th {\n",
       "        text-align: right;\n",
       "    }\n",
       "</style>\n",
       "<table border=\"1\" class=\"dataframe\">\n",
       "  <thead>\n",
       "    <tr style=\"text-align: right;\">\n",
       "      <th></th>\n",
       "      <th>author</th>\n",
       "      <th>date</th>\n",
       "      <th>comment</th>\n",
       "      <th>song_id</th>\n",
       "      <th>users_id</th>\n",
       "    </tr>\n",
       "  </thead>\n",
       "  <tbody>\n",
       "    <tr>\n",
       "      <th>0</th>\n",
       "      <td>DeeCee</td>\n",
       "      <td>2014-06-24 21:30:35</td>\n",
       "      <td>We should embrace the contractions here! The '...</td>\n",
       "      <td>61cc6cb83bd8fb88c65fe4f2</td>\n",
       "      <td>61cc6cbb3bd8fb88c6628b8b</td>\n",
       "    </tr>\n",
       "    <tr>\n",
       "      <th>1</th>\n",
       "      <td>CySorcerorD</td>\n",
       "      <td>2017-05-12 08:26:41</td>\n",
       "      <td>replace the A with an I to correct the 'A love...</td>\n",
       "      <td>61cc6cb83bd8fb88c65fe4f2</td>\n",
       "      <td>61cc6cbb3bd8fb88c6628b8c</td>\n",
       "    </tr>\n",
       "    <tr>\n",
       "      <th>2</th>\n",
       "      <td>guesg</td>\n",
       "      <td>2021-05-04 21:00:41</td>\n",
       "      <td>I love that this song was the theme song for W...</td>\n",
       "      <td>61cc6cb83bd8fb88c65fe4f2</td>\n",
       "      <td>61cc6cbb3bd8fb88c6628b8d</td>\n",
       "    </tr>\n",
       "    <tr>\n",
       "      <th>3</th>\n",
       "      <td>SpaceGhostBenoit</td>\n",
       "      <td>2021-07-18 00:30:19</td>\n",
       "      <td>stayed up every school night as a kid just to ...</td>\n",
       "      <td>61cc6cb83bd8fb88c65fe4f2</td>\n",
       "      <td>61cc6cbb3bd8fb88c6628b8e</td>\n",
       "    </tr>\n",
       "    <tr>\n",
       "      <th>4</th>\n",
       "      <td>Meandmylife</td>\n",
       "      <td>2014-08-15 07:00:58</td>\n",
       "      <td>you should add ‘hold your drinks’ before the c...</td>\n",
       "      <td>61cc6cb83bd8fb88c66067bf</td>\n",
       "      <td>61cc6cbb3bd8fb88c6628b8f</td>\n",
       "    </tr>\n",
       "  </tbody>\n",
       "</table>\n",
       "</div>"
      ],
      "text/plain": [
       "             author                date  \\\n",
       "0            DeeCee 2014-06-24 21:30:35   \n",
       "1       CySorcerorD 2017-05-12 08:26:41   \n",
       "2             guesg 2021-05-04 21:00:41   \n",
       "3  SpaceGhostBenoit 2021-07-18 00:30:19   \n",
       "4       Meandmylife 2014-08-15 07:00:58   \n",
       "\n",
       "                                             comment  \\\n",
       "0  We should embrace the contractions here! The '...   \n",
       "1  replace the A with an I to correct the 'A love...   \n",
       "2  I love that this song was the theme song for W...   \n",
       "3  stayed up every school night as a kid just to ...   \n",
       "4  you should add ‘hold your drinks’ before the c...   \n",
       "\n",
       "                    song_id                  users_id  \n",
       "0  61cc6cb83bd8fb88c65fe4f2  61cc6cbb3bd8fb88c6628b8b  \n",
       "1  61cc6cb83bd8fb88c65fe4f2  61cc6cbb3bd8fb88c6628b8c  \n",
       "2  61cc6cb83bd8fb88c65fe4f2  61cc6cbb3bd8fb88c6628b8d  \n",
       "3  61cc6cb83bd8fb88c65fe4f2  61cc6cbb3bd8fb88c6628b8e  \n",
       "4  61cc6cb83bd8fb88c66067bf  61cc6cbb3bd8fb88c6628b8f  "
      ]
     },
     "execution_count": 83,
     "metadata": {},
     "output_type": "execute_result"
    }
   ],
   "source": [
    "comments_csv.head()"
   ]
  },
  {
   "cell_type": "markdown",
   "id": "addbdde3",
   "metadata": {},
   "source": [
    "***\n",
    "\n",
    "<h3> Setup neo4j connection and insert nodes / create relationships </h3>"
   ]
  },
  {
   "cell_type": "code",
   "execution_count": 84,
   "id": "d204d176",
   "metadata": {},
   "outputs": [],
   "source": [
    "from neo4j import GraphDatabase"
   ]
  },
  {
   "cell_type": "code",
   "execution_count": 85,
   "id": "700fe56b",
   "metadata": {},
   "outputs": [],
   "source": [
    "class Neo4jConnection:\n",
    "    \n",
    "    def __init__(self, uri, user, pwd):\n",
    "        self.__uri = uri\n",
    "        self.__user = user\n",
    "        self.__pwd = pwd\n",
    "        self.__driver = None\n",
    "        try:\n",
    "            self.__driver = GraphDatabase.driver(self.__uri, auth=(self.__user, self.__pwd))\n",
    "        except Exception as e:\n",
    "            print(\"Failed to create the driver:\", e)\n",
    "        \n",
    "    def close(self):\n",
    "        if self.__driver is not None:\n",
    "            self.__driver.close()\n",
    "        \n",
    "    def query(self, query, db=None):\n",
    "        assert self.__driver is not None, \"Driver not initialized!\"\n",
    "        session = None\n",
    "        response = None\n",
    "        try: \n",
    "            session = self.__driver.session(database=db) if db is not None else self.__driver.session() \n",
    "            response = list(session.run(query))\n",
    "        except Exception as e:\n",
    "            print(\"Query failed:\", e)\n",
    "        finally: \n",
    "            if session is not None:\n",
    "                session.close()\n",
    "        return response"
   ]
  },
  {
   "cell_type": "code",
   "execution_count": 94,
   "id": "d980fa02",
   "metadata": {},
   "outputs": [],
   "source": [
    "conn = Neo4jConnection(uri=\"neo4j://127.0.0.1:7687/browser/\",user = \"\", pwd = \"\") # Neo4j connection"
   ]
  },
  {
   "cell_type": "code",
   "execution_count": null,
   "id": "94b9cda0",
   "metadata": {},
   "outputs": [],
   "source": [
    "# INSERT PLAYLIST NODES\n",
    "\n",
    "for index, row in playlist_csv.iterrows():\n",
    "    query_string = f'''\n",
    "        CREATE (:Playlist {{name: \"{row.playlist}\", id: \"{row.playlist_id}\" }})\n",
    "    '''\n",
    "    conn.query(query_string,db='SYP')"
   ]
  },
  {
   "cell_type": "code",
   "execution_count": 88,
   "id": "bf16600a",
   "metadata": {},
   "outputs": [],
   "source": [
    "# INSERT SONG NODES \n",
    "\n",
    "for index, row in songs_csv.iterrows():\n",
    "    query_string = ''\n",
    "    if(str(row.album) == 'nan'):\n",
    "        query_string = f'''\n",
    "            CREATE (:Song {{\n",
    "            id: \"{row.song_id}\",\n",
    "            track: \"{row.track}\",\n",
    "            artist: \"{row.artist}\"\n",
    "            }})\n",
    "        '''  \n",
    "    else:\n",
    "        query_string = f'''\n",
    "            CREATE (:Song {{\n",
    "            id: \"{row.song_id}\",\n",
    "            track: \"{row.track}\",\n",
    "            artist: \"{row.artist}\",\n",
    "            album: \"{row.album}\"\n",
    "            }})\n",
    "        '''\n",
    "    conn.query(query_string,db='SYP')"
   ]
  },
  {
   "cell_type": "code",
   "execution_count": 89,
   "id": "e04fa7d7",
   "metadata": {},
   "outputs": [],
   "source": [
    "# INSERT USER NODES\n",
    "\n",
    "for index, row in users_csv.iterrows():\n",
    "    query_string = f'''\n",
    "        CREATE (:User {{name: \"{row.username}\", id: \"{row.users_id}\" }})\n",
    "    '''\n",
    "    conn.query(query_string,db='SYP')"
   ]
  },
  {
   "cell_type": "markdown",
   "id": "6c07d4de",
   "metadata": {},
   "source": [
    "<h6> CREATE RELATIONSHIPS </h6>"
   ]
  },
  {
   "cell_type": "code",
   "execution_count": 95,
   "id": "a0bf7be8",
   "metadata": {
    "scrolled": true
   },
   "outputs": [],
   "source": [
    "# CREATE COMMENT NODES AND RELATIONSHIPS\n",
    "# User ->: WRITES -> Comment\n",
    "# Comment ->: RELATED -> Song\n",
    "\n",
    "for index, row in comments_csv.iterrows():\n",
    "    query_string = f'''\n",
    "        MATCH (u:User) WHERE u.id = \"{row.users_id}\"\n",
    "        MATCH (s:Song) WHERE s.id = \"{row.song_id}\"\n",
    "        CREATE (c:Comment {{date: \"{row.date}\", body: \"{row.comment}\", vote: \"{row.vote}\"}})\n",
    "        CREATE (u)-[:WRITE]->(c)\n",
    "        CREATE (c)-[:RELATED]->(s)\n",
    "    '''\n",
    "    conn.query(query_string,db='SYP')"
   ]
  },
  {
   "cell_type": "code",
   "execution_count": 97,
   "id": "bccba33d",
   "metadata": {
    "scrolled": true
   },
   "outputs": [],
   "source": [
    "# CREATE RELATIONSHIP\n",
    "# User ->: LIKES -> Playlist\n",
    "\n",
    "for index, row in users_csv.iterrows():\n",
    "    for index2, row2 in playlist_csv.sample(row.n_playlist_followed).iterrows():\n",
    "        query_string = f'''\n",
    "        MATCH (u:User) WHERE u.id = \"{row.users_id}\"\n",
    "        MATCH (p:Playlist) WHERE p.id = \"{row2.playlist_id}\"\n",
    "        CREATE (u)-[:LIKES]->(p)\n",
    "        '''\n",
    "\n",
    "        conn.query(query_string,db='SYP')"
   ]
  },
  {
   "cell_type": "code",
   "execution_count": 99,
   "id": "6beb97df",
   "metadata": {
    "scrolled": true
   },
   "outputs": [],
   "source": [
    "# CREATE RELATIONSHIP\n",
    "# User ->: FOLLOWS -> User\n",
    "\n",
    "for index, row in users_csv.iterrows():\n",
    "    for index2, row2 in users_csv.sample(row.n_user_followed).iterrows():\n",
    "        query_string = f'''\n",
    "        MATCH (u:User) WHERE u.id = \"{row.users_id}\"\n",
    "        MATCH (u_2:User) WHERE u_2.id = \"{row2.users_id}\"\n",
    "        CREATE (u)-[:FOLLOWS]->(u_2)\n",
    "        '''\n",
    "        #print(query_string)\n",
    "        conn.query(query_string,db='SYP')"
   ]
  },
  {
   "cell_type": "code",
   "execution_count": 100,
   "id": "2accad65",
   "metadata": {},
   "outputs": [
    {
     "data": {
      "text/plain": [
       "[]"
      ]
     },
     "execution_count": 100,
     "metadata": {},
     "output_type": "execute_result"
    }
   ],
   "source": [
    "# Delete, if exists, self-reletionships from neo4j graph\n",
    "query_string = f'''\n",
    "        MATCH (a:User)-[rel:FOLLOWS]->(a) \n",
    "        DELETE rel;\n",
    "        '''\n",
    "conn.query(query_string,db='SYP')"
   ]
  }
 ],
 "metadata": {
  "kernelspec": {
   "display_name": "Python 3 (ipykernel)",
   "language": "python",
   "name": "python3"
  },
  "language_info": {
   "codemirror_mode": {
    "name": "ipython",
    "version": 3
   },
   "file_extension": ".py",
   "mimetype": "text/x-python",
   "name": "python",
   "nbconvert_exporter": "python",
   "pygments_lexer": "ipython3",
   "version": "3.9.7"
  }
 },
 "nbformat": 4,
 "nbformat_minor": 5
}
